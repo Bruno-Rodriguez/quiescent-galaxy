{
 "cells": [
  {
   "cell_type": "code",
   "execution_count": 1,
   "metadata": {},
   "outputs": [],
   "source": [
    "import numpy as np\n",
    "import pandas as pd\n",
    "import matplotlib.pyplot as plt\n",
    "from scipy.optimize import curve_fit\n",
    "from astropy import units as u\n",
    "from astropy import constants as const"
   ]
  },
  {
   "cell_type": "code",
   "execution_count": 2,
   "metadata": {},
   "outputs": [],
   "source": [
    "# data for UGC02369\n",
    "redshift = 0.032\n",
    "xdata = np.array([8,12,24,25,60,70,100,160,450,850])\n",
    "ydata = np.array([0.149,0.230,1.160,1.880,8.070,7.823,11.18,8.717,0.523,0.072])\n",
    "yerr = np.array([0.004,0.022,0.058,0.042,0.043,1.173,0.190,2.615,0.120,0.013])"
   ]
  },
  {
   "cell_type": "code",
   "execution_count": 3,
   "metadata": {},
   "outputs": [],
   "source": [
    "def GreybodyPL(x,T,Nbb):\n",
    "    '''Flux density in Jy at wavelength x in micron\n",
    "    for full IR regime\n",
    "    given by an optically thick grey-body modelmodified with a MIR power-law\n",
    "    T is the temperature of the grey body and \n",
    "    Nbb is a normalization parameter'''\n",
    "    alpha = 2.0\n",
    "    beta = 1.5\n",
    "    Lc = (26.68 + alpha*6.246)**-2 + (1.905*(10**-4) + alpha*7.243*(10**-5))*T # 1/turnover_wavelength\n",
    "    Npl = Nbb*((1-np.exp(-(200*Lc)**beta))*(Lc**3))/(np.exp(14387.8*Lc/T)-1)\n",
    "    flux = Nbb*((1-np.exp(-(200/x)**beta))*(x**-3))/(np.exp(14387.8/(x*T))-1) + Npl*np.exp(-(x*Lc*4/3)**2)*(x*Lc)**alpha\n",
    "    return flux"
   ]
  },
  {
   "cell_type": "code",
   "execution_count": 110,
   "metadata": {},
   "outputs": [],
   "source": [
    "def GreybodyPL(x,T,Nbb):\n",
    "    '''Flux density in Jy at wavelength x in micron\n",
    "    for full IR regime\n",
    "    given by an optically thick grey-body modelmodified with a MIR power-law\n",
    "    T is the temperature of the grey body and \n",
    "    Nbb is a normalization parameter'''\n",
    "    alpha = 2.0\n",
    "    beta = 1.5\n",
    "    Lc = (26.6764 + alpha*6.24629)**-2 + (1.9053*(10**-4) + alpha*7.24277*(10**-5))*T # 1/turnover_wavelength\n",
    "    Npl = Nbb*((1-np.exp(-(200*Lc)**beta))*(Lc**3))/(np.exp(14387.8*Lc/T)-1)\n",
    "    flux = Nbb*((1-np.exp(-(200/x)**beta))*(x**-3))/(np.exp(14387.8/(x*T))-1) + Npl*np.exp(-(x*Lc*4/3)**2)*(x*Lc)**alpha\n",
    "    return flux"
   ]
  },
  {
   "cell_type": "code",
   "execution_count": 4,
   "metadata": {},
   "outputs": [],
   "source": [
    "def Greybody(x,T,Nbb):\n",
    "    '''Flux density in Jy at wavelength x in micron\n",
    "    for dust-dominated FIR regime\n",
    "    given by an optically thick grey-body model\n",
    "    T is the temperature of the grey body and \n",
    "    Nbb is a normalization parameter'''\n",
    "    beta = 1.5\n",
    "    flux = Nbb*((1-np.exp(-(200/x)**beta))*(x**-3))/(np.exp(14387.8/(x*T))-1)\n",
    "    return flux"
   ]
  },
  {
   "cell_type": "code",
   "execution_count": 5,
   "metadata": {},
   "outputs": [],
   "source": [
    "def PL(x,Lc,Npl):\n",
    "    '''Flux density in Jy at wavelength x in micron\n",
    "    for PAH-dominated MIR regime\n",
    "    given by a power-law\n",
    "    Lc is the turnover wavelength \n",
    "    Nbl is a normalization parameter'''\n",
    "    alpha = 2.0\n",
    "    flux = Npl*np.exp(-(x/(Lc*3/4))**2)*(x/Lc)**alpha\n",
    "    return flux"
   ]
  },
  {
   "cell_type": "code",
   "execution_count": null,
   "metadata": {},
   "outputs": [],
   "source": [
    "#From cmcirsed:\n",
    "#      p0 = 4.0        #best starting guess for N_bb\n",
    "#      p1 = 30         #best starting guess for Tdust\n",
    "#      p2 = betavalue  #best starting guess for beta\n",
    "#      p4 = alphavalue #best starting guess for alpha\n",
    "#      npl = p0  + alog10(1-exp(-(200.*((26.6764 + 6.24629 * p4)^(-2.) + (0.000190530 + 7.24277e-05 * p4)*p1))^p2)) \n",
    "#                + 3.*alog10((26.6764 + 6.24629 * p4)^(-2.) + (0.000190530 + 7.24277e-05 * p4)*p1) \n",
    "#                - alog10(exp(14393.9*((26.6764 + 6.24629 * p4)^(-2.) + (0.000190530 + 7.24277e-05 * p4)*p1)/(p1))-1.)"
   ]
  },
  {
   "cell_type": "code",
   "execution_count": 6,
   "metadata": {},
   "outputs": [
    {
     "name": "stdout",
     "output_type": "stream",
     "text": [
      "[4.48666052e+01 2.78519932e+08]\n"
     ]
    }
   ],
   "source": [
    "popt1, pcov1 = curve_fit(GreybodyPL,xdata/(1+redshift),ydata,p0=[30,10**4])\n",
    "print(popt1)"
   ]
  },
  {
   "cell_type": "code",
   "execution_count": 7,
   "metadata": {},
   "outputs": [
    {
     "data": {
      "text/plain": [
       "63.70253285271913"
      ]
     },
     "execution_count": 7,
     "metadata": {},
     "output_type": "execute_result"
    }
   ],
   "source": [
    "((26.68 + 2*6.246)**-2 + (1.905*(10**-4) + 2*7.243*(10**-5))*44.866)**-1"
   ]
  },
  {
   "cell_type": "code",
   "execution_count": 10,
   "metadata": {},
   "outputs": [
    {
     "data": {
      "text/plain": [
       "7.034682432609176"
      ]
     },
     "execution_count": 10,
     "metadata": {},
     "output_type": "execute_result"
    }
   ],
   "source": [
    "#((1-np.exp(-(200*93.3)**1.5))*(93.3**3))/(np.exp(14387.8*93.3*25.5)-1)\n",
    "popt1[1]*((1-np.exp(-(200/63.7)**1.5))*(63.7**-3))/(np.exp(14387.8/(63.7*44.866))-1)"
   ]
  },
  {
   "cell_type": "code",
   "execution_count": 13,
   "metadata": {},
   "outputs": [
    {
     "data": {
      "image/png": "[encoded data removed]",
      "text/plain": [
       "<Figure size 432x432 with 1 Axes>"
      ]
     },
     "metadata": {
      "needs_background": "light"
     },
     "output_type": "display_data"
    }
   ],
   "source": [
    "fig,axs = plt.subplots(figsize=(6,6))\n",
    "array = np.linspace(8,1000,1000)\n",
    "axs.scatter(xdata/(1+redshift),ydata,c='b',label='data')\n",
    "axs.plot(array,GreybodyPL(array,popt1[0],popt1[1]),c='k',label='fit')\n",
    "axs.plot(array,Greybody(array,popt1[0],popt1[1]),c='g',label='greybody')\n",
    "axs.plot(array,PL(array,63.7,7.03),c='m',label='power law')\n",
    "axs.set_xscale('log')\n",
    "axs.set_yscale('log')\n",
    "axs.set_ylim(ymin=0.01,ymax=100)\n",
    "axs.legend(numpoints=1,loc='best')\n",
    "plt.show()"
   ]
  },
  {
   "cell_type": "code",
   "execution_count": 14,
   "metadata": {
    "scrolled": false
   },
   "outputs": [
    {
     "data": {
      "image/png": "[encoded data removed]",
      "text/plain": [
       "<Figure size 432x432 with 1 Axes>"
      ]
     },
     "metadata": {
      "needs_background": "light"
     },
     "output_type": "display_data"
    }
   ],
   "source": [
    "fig,axs = plt.subplots(figsize=(6,6))\n",
    "array = np.linspace(8,1000,1000)\n",
    "axs.scatter(xdata/(1+redshift),ydata,c='b',label='data')\n",
    "axs.plot(array,GreybodyPL(array,popt1[0],popt1[1]),c='k',label='fit')\n",
    "axs.plot(array,Greybody(array,popt1[0],popt1[1]),c='g',label='greybody')\n",
    "axs.plot(array,PL(array,63.7,7.03),c='m',label='power law')\n",
    "#axs.set_xscale('log')\n",
    "#axs.set_yscale('log')\n",
    "#axs.set_ylim(ymin=0.01,ymax=100)\n",
    "axs.legend(numpoints=1,loc='best')\n",
    "plt.show()"
   ]
  },
  {
   "cell_type": "code",
   "execution_count": 27,
   "metadata": {
    "scrolled": false
   },
   "outputs": [
    {
     "data": {
      "image/png": "[encoded data removed]",
      "text/plain": [
       "<Figure size 432x432 with 1 Axes>"
      ]
     },
     "metadata": {
      "needs_background": "light"
     },
     "output_type": "display_data"
    }
   ],
   "source": [
    "fig,axs = plt.subplots(figsize=(6,6))\n",
    "array = np.linspace(8,1000,1000)\n",
    "axs.scatter(xdata/(1+redshift),ydata,c='b',label='data')\n",
    "axs.plot(array,(10**4)*GreybodyPL(array,popt1[0],popt1[1])/array**2,c='k',label='fit')\n",
    "axs.plot(array,Greybody(array,44.9,2.79*10**8),c='g',label='greybody')\n",
    "axs.plot(array,PL(array,63.7,7.06),c='m',label='power law')\n",
    "#axs.set_xscale('log')\n",
    "#axs.set_yscale('log')\n",
    "#axs.set_ylim(ymin=0.01,ymax=100)\n",
    "axs.legend(numpoints=1,loc='best')\n",
    "plt.show()"
   ]
  },
  {
   "cell_type": "markdown",
   "metadata": {},
   "source": [
    "## Obtaining Teff"
   ]
  },
  {
   "cell_type": "code",
   "execution_count": 15,
   "metadata": {},
   "outputs": [],
   "source": [
    "from scipy.optimize import minimize_scalar"
   ]
  },
  {
   "cell_type": "code",
   "execution_count": 17,
   "metadata": {},
   "outputs": [
    {
     "data": {
      "text/plain": [
       "98.20409452510172"
      ]
     },
     "execution_count": 17,
     "metadata": {},
     "output_type": "execute_result"
    }
   ],
   "source": [
    "res = minimize_scalar(lambda x: -GreybodyPL(x,popt1[0],popt1[1]),bounds=(1,1000),method='bounded')#,args=(popt[0],popt[1]))\n",
    "res.x"
   ]
  },
  {
   "cell_type": "code",
   "execution_count": 19,
   "metadata": {},
   "outputs": [
    {
     "data": {
      "text/plain": [
       "29.509971188209967"
      ]
     },
     "execution_count": 19,
     "metadata": {},
     "output_type": "execute_result"
    }
   ],
   "source": [
    "Teff = 2.898*(10**3)/res.x # effective temperature in Kelvin as given by Wein's displacement law\n",
    "                           # note Casey 2012 gives 31.2 K as the temperature for UGC02369\n",
    "Teff"
   ]
  },
  {
   "cell_type": "markdown",
   "metadata": {},
   "source": [
    "## Integrating to get LIR\n",
    "\n",
    "### Integrating the analytical expression of the flux"
   ]
  },
  {
   "cell_type": "code",
   "execution_count": 20,
   "metadata": {},
   "outputs": [],
   "source": [
    "from scipy.integrate import quad\n",
    "#Integrate the Greybody function to get total IR flux,\n",
    "#then multiply by 4piDl^2 to get LIR\n",
    "##INTEGRATE AS A FUNCTION OF WAVELENGTH, NOT FREQUENCY!!!!"
   ]
  },
  {
   "cell_type": "code",
   "execution_count": 118,
   "metadata": {},
   "outputs": [
    {
     "data": {
      "text/latex": [
       "$1.9511594 \\times 10^{50} \\; \\mathrm{m^{2}}$"
      ],
      "text/plain": [
       "<Quantity 1.95115939e+50 m2>"
      ]
     },
     "execution_count": 118,
     "metadata": {},
     "output_type": "execute_result"
    }
   ],
   "source": [
    "dist_factor = 4*np.pi*(127.7*(10**6)*const.pc)**2 #distance is 127.7 Mpc\n",
    "dist_factor"
   ]
  },
  {
   "cell_type": "code",
   "execution_count": 21,
   "metadata": {},
   "outputs": [
    {
     "data": {
      "text/latex": [
       "$3.0856776 \\times 10^{16} \\; \\mathrm{m}$"
      ],
      "text/plain": [
       "<<class 'astropy.constants.iau2015.IAU2015'> name='Parsec' value=3.0856775814671916e+16 uncertainty=0.0 unit='m' reference='Derived from au'>"
      ]
     },
     "execution_count": 21,
     "metadata": {},
     "output_type": "execute_result"
    }
   ],
   "source": [
    "const.pc"
   ]
  },
  {
   "cell_type": "code",
   "execution_count": 23,
   "metadata": {},
   "outputs": [
    {
     "data": {
      "text/latex": [
       "$3.828 \\times 10^{26} \\; \\mathrm{W}$"
      ],
      "text/plain": [
       "<<class 'astropy.constants.iau2015.IAU2015'> name='Nominal solar luminosity' value=3.828e+26 uncertainty=0.0 unit='W' reference='IAU 2015 Resolution B 3'>"
      ]
     },
     "execution_count": 23,
     "metadata": {},
     "output_type": "execute_result"
    }
   ],
   "source": [
    "const.L_sun"
   ]
  },
  {
   "cell_type": "code",
   "execution_count": 119,
   "metadata": {},
   "outputs": [
    {
     "data": {
      "text/latex": [
       "$0.20933374 \\; \\mathrm{\\frac{Jy}{\\mu m}}$"
      ],
      "text/plain": [
       "<Quantity 0.20933374 Jy / micron>"
      ]
     },
     "execution_count": 119,
     "metadata": {},
     "output_type": "execute_result"
    }
   ],
   "source": [
    "i1, abserr1 = quad(lambda x: GreybodyPL(x,popt1[0],popt1[1])/(x**2),8,1000) # c/lambda^2 factor gives flux per unit of wavelength\n",
    "i1*u.Jansky/u.micron"
   ]
  },
  {
   "cell_type": "code",
   "execution_count": 120,
   "metadata": {},
   "outputs": [
    {
     "data": {
      "text/latex": [
       "$1.2244828 \\times 10^{38} \\; \\mathrm{\\frac{J}{s}}$"
      ],
      "text/plain": [
       "<Quantity 1.22448277e+38 J / s>"
      ]
     },
     "execution_count": 120,
     "metadata": {},
     "output_type": "execute_result"
    }
   ],
   "source": [
    "(const.c*i1*dist_factor*u.Jansky/u.micron).si"
   ]
  },
  {
   "cell_type": "code",
   "execution_count": 121,
   "metadata": {},
   "outputs": [
    {
     "data": {
      "text/latex": [
       "$3.1987533 \\times 10^{11} \\; \\mathrm{\\frac{J}{W\\,s}}$"
      ],
      "text/plain": [
       "<Quantity 3.19875331e+11 J / (s W)>"
      ]
     },
     "execution_count": 121,
     "metadata": {},
     "output_type": "execute_result"
    }
   ],
   "source": [
    "(const.c*i1*dist_factor*u.Jansky/u.micron).si/const.L_sun"
   ]
  },
  {
   "cell_type": "code",
   "execution_count": 122,
   "metadata": {
    "scrolled": true
   },
   "outputs": [
    {
     "data": {
      "text/plain": [
       "320096776562.4394"
      ]
     },
     "execution_count": 122,
     "metadata": {},
     "output_type": "execute_result"
    }
   ],
   "source": [
    "i1*3*(10**8)*(10**-26)*(10**6)*dist_factor.value/(3.828*10**26)"
   ]
  },
  {
   "cell_type": "code",
   "execution_count": 123,
   "metadata": {
    "scrolled": true
   },
   "outputs": [
    {
     "data": {
      "text/plain": [
       "11.505281300735216"
      ]
     },
     "execution_count": 123,
     "metadata": {},
     "output_type": "execute_result"
    }
   ],
   "source": [
    "# note Casey 2012 gives log(LIR) as 11.69\n",
    "np.log10(i1*3*(10**8)*(10**-26)*(10**6)*dist_factor.value/(3.828*10**26))"
   ]
  },
  {
   "cell_type": "markdown",
   "metadata": {},
   "source": [
    "### Another method: constructing an SED array"
   ]
  },
  {
   "cell_type": "code",
   "execution_count": 31,
   "metadata": {},
   "outputs": [
    {
     "data": {
      "text/latex": [
       "$[7,~8,~9,~\\dots,~997,~998,~999] \\; \\mathrm{\\mu m}$"
      ],
      "text/plain": [
       "<Quantity [  7.,   8.,   9.,  10.,  11.,  12.,  13.,  14.,  15.,  16.,\n",
       "            17.,  18.,  19.,  20.,  21.,  22.,  23.,  24.,  25.,  26.,\n",
       "            27.,  28.,  29.,  30.,  31.,  32.,  33.,  34.,  35.,  36.,\n",
       "            37.,  38.,  39.,  40.,  41.,  42.,  43.,  44.,  45.,  46.,\n",
       "            47.,  48.,  49.,  50.,  51.,  52.,  53.,  54.,  55.,  56.,\n",
       "            57.,  58.,  59.,  60.,  61.,  62.,  63.,  64.,  65.,  66.,\n",
       "            67.,  68.,  69.,  70.,  71.,  72.,  73.,  74.,  75.,  76.,\n",
       "            77.,  78.,  79.,  80.,  81.,  82.,  83.,  84.,  85.,  86.,\n",
       "            87.,  88.,  89.,  90.,  91.,  92.,  93.,  94.,  95.,  96.,\n",
       "            97.,  98.,  99., 100., 101., 102., 103., 104., 105., 106.,\n",
       "           107., 108., 109., 110., 111., 112., 113., 114., 115., 116.,\n",
       "           117., 118., 119., 120., 121., 122., 123., 124., 125., 126.,\n",
       "           127., 128., 129., 130., 131., 132., 133., 134., 135., 136.,\n",
       "           137., 138., 139., 140., 141., 142., 143., 144., 145., 146.,\n",
       "           147., 148., 149., 150., 151., 152., 153., 154., 155., 156.,\n",
       "           157., 158., 159., 160., 161., 162., 163., 164., 165., 166.,\n",
       "           167., 168., 169., 170., 171., 172., 173., 174., 175., 176.,\n",
       "           177., 178., 179., 180., 181., 182., 183., 184., 185., 186.,\n",
       "           187., 188., 189., 190., 191., 192., 193., 194., 195., 196.,\n",
       "           197., 198., 199., 200., 201., 202., 203., 204., 205., 206.,\n",
       "           207., 208., 209., 210., 211., 212., 213., 214., 215., 216.,\n",
       "           217., 218., 219., 220., 221., 222., 223., 224., 225., 226.,\n",
       "           227., 228., 229., 230., 231., 232., 233., 234., 235., 236.,\n",
       "           237., 238., 239., 240., 241., 242., 243., 244., 245., 246.,\n",
       "           247., 248., 249., 250., 251., 252., 253., 254., 255., 256.,\n",
       "           257., 258., 259., 260., 261., 262., 263., 264., 265., 266.,\n",
       "           267., 268., 269., 270., 271., 272., 273., 274., 275., 276.,\n",
       "           277., 278., 279., 280., 281., 282., 283., 284., 285., 286.,\n",
       "           287., 288., 289., 290., 291., 292., 293., 294., 295., 296.,\n",
       "           297., 298., 299., 300., 301., 302., 303., 304., 305., 306.,\n",
       "           307., 308., 309., 310., 311., 312., 313., 314., 315., 316.,\n",
       "           317., 318., 319., 320., 321., 322., 323., 324., 325., 326.,\n",
       "           327., 328., 329., 330., 331., 332., 333., 334., 335., 336.,\n",
       "           337., 338., 339., 340., 341., 342., 343., 344., 345., 346.,\n",
       "           347., 348., 349., 350., 351., 352., 353., 354., 355., 356.,\n",
       "           357., 358., 359., 360., 361., 362., 363., 364., 365., 366.,\n",
       "           367., 368., 369., 370., 371., 372., 373., 374., 375., 376.,\n",
       "           377., 378., 379., 380., 381., 382., 383., 384., 385., 386.,\n",
       "           387., 388., 389., 390., 391., 392., 393., 394., 395., 396.,\n",
       "           397., 398., 399., 400., 401., 402., 403., 404., 405., 406.,\n",
       "           407., 408., 409., 410., 411., 412., 413., 414., 415., 416.,\n",
       "           417., 418., 419., 420., 421., 422., 423., 424., 425., 426.,\n",
       "           427., 428., 429., 430., 431., 432., 433., 434., 435., 436.,\n",
       "           437., 438., 439., 440., 441., 442., 443., 444., 445., 446.,\n",
       "           447., 448., 449., 450., 451., 452., 453., 454., 455., 456.,\n",
       "           457., 458., 459., 460., 461., 462., 463., 464., 465., 466.,\n",
       "           467., 468., 469., 470., 471., 472., 473., 474., 475., 476.,\n",
       "           477., 478., 479., 480., 481., 482., 483., 484., 485., 486.,\n",
       "           487., 488., 489., 490., 491., 492., 493., 494., 495., 496.,\n",
       "           497., 498., 499., 500., 501., 502., 503., 504., 505., 506.,\n",
       "           507., 508., 509., 510., 511., 512., 513., 514., 515., 516.,\n",
       "           517., 518., 519., 520., 521., 522., 523., 524., 525., 526.,\n",
       "           527., 528., 529., 530., 531., 532., 533., 534., 535., 536.,\n",
       "           537., 538., 539., 540., 541., 542., 543., 544., 545., 546.,\n",
       "           547., 548., 549., 550., 551., 552., 553., 554., 555., 556.,\n",
       "           557., 558., 559., 560., 561., 562., 563., 564., 565., 566.,\n",
       "           567., 568., 569., 570., 571., 572., 573., 574., 575., 576.,\n",
       "           577., 578., 579., 580., 581., 582., 583., 584., 585., 586.,\n",
       "           587., 588., 589., 590., 591., 592., 593., 594., 595., 596.,\n",
       "           597., 598., 599., 600., 601., 602., 603., 604., 605., 606.,\n",
       "           607., 608., 609., 610., 611., 612., 613., 614., 615., 616.,\n",
       "           617., 618., 619., 620., 621., 622., 623., 624., 625., 626.,\n",
       "           627., 628., 629., 630., 631., 632., 633., 634., 635., 636.,\n",
       "           637., 638., 639., 640., 641., 642., 643., 644., 645., 646.,\n",
       "           647., 648., 649., 650., 651., 652., 653., 654., 655., 656.,\n",
       "           657., 658., 659., 660., 661., 662., 663., 664., 665., 666.,\n",
       "           667., 668., 669., 670., 671., 672., 673., 674., 675., 676.,\n",
       "           677., 678., 679., 680., 681., 682., 683., 684., 685., 686.,\n",
       "           687., 688., 689., 690., 691., 692., 693., 694., 695., 696.,\n",
       "           697., 698., 699., 700., 701., 702., 703., 704., 705., 706.,\n",
       "           707., 708., 709., 710., 711., 712., 713., 714., 715., 716.,\n",
       "           717., 718., 719., 720., 721., 722., 723., 724., 725., 726.,\n",
       "           727., 728., 729., 730., 731., 732., 733., 734., 735., 736.,\n",
       "           737., 738., 739., 740., 741., 742., 743., 744., 745., 746.,\n",
       "           747., 748., 749., 750., 751., 752., 753., 754., 755., 756.,\n",
       "           757., 758., 759., 760., 761., 762., 763., 764., 765., 766.,\n",
       "           767., 768., 769., 770., 771., 772., 773., 774., 775., 776.,\n",
       "           777., 778., 779., 780., 781., 782., 783., 784., 785., 786.,\n",
       "           787., 788., 789., 790., 791., 792., 793., 794., 795., 796.,\n",
       "           797., 798., 799., 800., 801., 802., 803., 804., 805., 806.,\n",
       "           807., 808., 809., 810., 811., 812., 813., 814., 815., 816.,\n",
       "           817., 818., 819., 820., 821., 822., 823., 824., 825., 826.,\n",
       "           827., 828., 829., 830., 831., 832., 833., 834., 835., 836.,\n",
       "           837., 838., 839., 840., 841., 842., 843., 844., 845., 846.,\n",
       "           847., 848., 849., 850., 851., 852., 853., 854., 855., 856.,\n",
       "           857., 858., 859., 860., 861., 862., 863., 864., 865., 866.,\n",
       "           867., 868., 869., 870., 871., 872., 873., 874., 875., 876.,\n",
       "           877., 878., 879., 880., 881., 882., 883., 884., 885., 886.,\n",
       "           887., 888., 889., 890., 891., 892., 893., 894., 895., 896.,\n",
       "           897., 898., 899., 900., 901., 902., 903., 904., 905., 906.,\n",
       "           907., 908., 909., 910., 911., 912., 913., 914., 915., 916.,\n",
       "           917., 918., 919., 920., 921., 922., 923., 924., 925., 926.,\n",
       "           927., 928., 929., 930., 931., 932., 933., 934., 935., 936.,\n",
       "           937., 938., 939., 940., 941., 942., 943., 944., 945., 946.,\n",
       "           947., 948., 949., 950., 951., 952., 953., 954., 955., 956.,\n",
       "           957., 958., 959., 960., 961., 962., 963., 964., 965., 966.,\n",
       "           967., 968., 969., 970., 971., 972., 973., 974., 975., 976.,\n",
       "           977., 978., 979., 980., 981., 982., 983., 984., 985., 986.,\n",
       "           987., 988., 989., 990., 991., 992., 993., 994., 995., 996.,\n",
       "           997., 998., 999.] micron>"
      ]
     },
     "execution_count": 31,
     "metadata": {},
     "output_type": "execute_result"
    }
   ],
   "source": [
    "wl = np.arange(8,1001)\n",
    "(wl-1)*u.micron"
   ]
  },
  {
   "cell_type": "code",
   "execution_count": 33,
   "metadata": {},
   "outputs": [
    {
     "data": {
      "text/latex": [
       "$[3.7474057 \\times 10^{13},~3.3310273 \\times 10^{13},~2.9979246 \\times 10^{13},~\\dots,~3.0039324 \\times 10^{11},~3.0009255 \\times 10^{11},~2.9979246 \\times 10^{11}] \\; \\mathrm{Hz}$"
      ],
      "text/plain": [
       "<Quantity [3.74740572e+13, 3.33102731e+13, 2.99792458e+13, 2.72538598e+13,\n",
       "           2.49827048e+13, 2.30609583e+13, 2.14137470e+13, 1.99861639e+13,\n",
       "           1.87370286e+13, 1.76348505e+13, 1.66551366e+13, 1.57785504e+13,\n",
       "           1.49896229e+13, 1.42758313e+13, 1.36269299e+13, 1.30344547e+13,\n",
       "           1.24913524e+13, 1.19916983e+13, 1.15304792e+13, 1.11034244e+13,\n",
       "           1.07068735e+13, 1.03376710e+13, 9.99308193e+12, 9.67072445e+12,\n",
       "           9.36851431e+12, 9.08461994e+12, 8.81742524e+12, 8.56549880e+12,\n",
       "           8.32756828e+12, 8.10249886e+12, 7.88927521e+12, 7.68698610e+12,\n",
       "           7.49481145e+12, 7.31201117e+12, 7.13791567e+12, 6.97191763e+12,\n",
       "           6.81346495e+12, 6.66205462e+12, 6.51722735e+12, 6.37856294e+12,\n",
       "           6.24567621e+12, 6.11821343e+12, 5.99584916e+12, 5.87828349e+12,\n",
       "           5.76523958e+12, 5.65646147e+12, 5.55171219e+12, 5.45077196e+12,\n",
       "           5.35343675e+12, 5.25951681e+12, 5.16883548e+12, 5.08122810e+12,\n",
       "           4.99654097e+12, 4.91463046e+12, 4.83536223e+12, 4.75861044e+12,\n",
       "           4.68425716e+12, 4.61219166e+12, 4.54230997e+12, 4.47451430e+12,\n",
       "           4.40871262e+12, 4.34481823e+12, 4.28274940e+12, 4.22242899e+12,\n",
       "           4.16378414e+12, 4.10674600e+12, 4.05124943e+12, 3.99723277e+12,\n",
       "           3.94463761e+12, 3.89340855e+12, 3.84349305e+12, 3.79484124e+12,\n",
       "           3.74740572e+12, 3.70114146e+12, 3.65600559e+12, 3.61195733e+12,\n",
       "           3.56895783e+12, 3.52697009e+12, 3.48595881e+12, 3.44589032e+12,\n",
       "           3.40673248e+12, 3.36845458e+12, 3.33102731e+12, 3.29442262e+12,\n",
       "           3.25861367e+12, 3.22357482e+12, 3.18928147e+12, 3.15571008e+12,\n",
       "           3.12283810e+12, 3.09064390e+12, 3.05910671e+12, 3.02820665e+12,\n",
       "           2.99792458e+12, 2.96824216e+12, 2.93914175e+12, 2.91060639e+12,\n",
       "           2.88261979e+12, 2.85516627e+12, 2.82823074e+12, 2.80179867e+12,\n",
       "           2.77585609e+12, 2.75038952e+12, 2.72538598e+12, 2.70083295e+12,\n",
       "           2.67671838e+12, 2.65303060e+12, 2.62975840e+12, 2.60689094e+12,\n",
       "           2.58441774e+12, 2.56232870e+12, 2.54061405e+12, 2.51926435e+12,\n",
       "           2.49827048e+12, 2.47762362e+12, 2.45731523e+12, 2.43733706e+12,\n",
       "           2.41768111e+12, 2.39833966e+12, 2.37930522e+12, 2.36057054e+12,\n",
       "           2.34212858e+12, 2.32397254e+12, 2.30609583e+12, 2.28849205e+12,\n",
       "           2.27115498e+12, 2.25407863e+12, 2.23725715e+12, 2.22068487e+12,\n",
       "           2.20435631e+12, 2.18826612e+12, 2.17240912e+12, 2.15678027e+12,\n",
       "           2.14137470e+12, 2.12618765e+12, 2.11121449e+12, 2.09645076e+12,\n",
       "           2.08189207e+12, 2.06753419e+12, 2.05337300e+12, 2.03940448e+12,\n",
       "           2.02562472e+12, 2.01202992e+12, 1.99861639e+12, 1.98538052e+12,\n",
       "           1.97231880e+12, 1.95942783e+12, 1.94670427e+12, 1.93414489e+12,\n",
       "           1.92174653e+12, 1.90950610e+12, 1.89742062e+12, 1.88548716e+12,\n",
       "           1.87370286e+12, 1.86206496e+12, 1.85057073e+12, 1.83921753e+12,\n",
       "           1.82800279e+12, 1.81692399e+12, 1.80597866e+12, 1.79516442e+12,\n",
       "           1.78447892e+12, 1.77391987e+12, 1.76348505e+12, 1.75317227e+12,\n",
       "           1.74297941e+12, 1.73290438e+12, 1.72294516e+12, 1.71309976e+12,\n",
       "           1.70336624e+12, 1.69374270e+12, 1.68422729e+12, 1.67481820e+12,\n",
       "           1.66551366e+12, 1.65631192e+12, 1.64721131e+12, 1.63821015e+12,\n",
       "           1.62930684e+12, 1.62049977e+12, 1.61178741e+12, 1.60316822e+12,\n",
       "           1.59464073e+12, 1.58620348e+12, 1.57785504e+12, 1.56959402e+12,\n",
       "           1.56141905e+12, 1.55332880e+12, 1.54532195e+12, 1.53739722e+12,\n",
       "           1.52955336e+12, 1.52178913e+12, 1.51410332e+12, 1.50649476e+12,\n",
       "           1.49896229e+12, 1.49150477e+12, 1.48412108e+12, 1.47681014e+12,\n",
       "           1.46957087e+12, 1.46240223e+12, 1.45530319e+12, 1.44827274e+12,\n",
       "           1.44130989e+12, 1.43441367e+12, 1.42758313e+12, 1.42081734e+12,\n",
       "           1.41411537e+12, 1.40747633e+12, 1.40089934e+12, 1.39438353e+12,\n",
       "           1.38792805e+12, 1.38153206e+12, 1.37519476e+12, 1.36891533e+12,\n",
       "           1.36269299e+12, 1.35652696e+12, 1.35041648e+12, 1.34436080e+12,\n",
       "           1.33835919e+12, 1.33241092e+12, 1.32651530e+12, 1.32067162e+12,\n",
       "           1.31487920e+12, 1.30913737e+12, 1.30344547e+12, 1.29780285e+12,\n",
       "           1.29220887e+12, 1.28666291e+12, 1.28116435e+12, 1.27571259e+12,\n",
       "           1.27030703e+12, 1.26494708e+12, 1.25963218e+12, 1.25436175e+12,\n",
       "           1.24913524e+12, 1.24395211e+12, 1.23881181e+12, 1.23371382e+12,\n",
       "           1.22865761e+12, 1.22364269e+12, 1.21866853e+12, 1.21373465e+12,\n",
       "           1.20884056e+12, 1.20398578e+12, 1.19916983e+12, 1.19439226e+12,\n",
       "           1.18965261e+12, 1.18495043e+12, 1.18028527e+12, 1.17565670e+12,\n",
       "           1.17106429e+12, 1.16650762e+12, 1.16198627e+12, 1.15749984e+12,\n",
       "           1.15304792e+12, 1.14863011e+12, 1.14424602e+12, 1.13989528e+12,\n",
       "           1.13557749e+12, 1.13129229e+12, 1.12703932e+12, 1.12281819e+12,\n",
       "           1.11862857e+12, 1.11447010e+12, 1.11034244e+12, 1.10624523e+12,\n",
       "           1.10217815e+12, 1.09814087e+12, 1.09413306e+12, 1.09015439e+12,\n",
       "           1.08620456e+12, 1.08228324e+12, 1.07839014e+12, 1.07452494e+12,\n",
       "           1.07068735e+12, 1.06687707e+12, 1.06309382e+12, 1.05933731e+12,\n",
       "           1.05560725e+12, 1.05190336e+12, 1.04822538e+12, 1.04457302e+12,\n",
       "           1.04094603e+12, 1.03734415e+12, 1.03376710e+12, 1.03021463e+12,\n",
       "           1.02668650e+12, 1.02318245e+12, 1.01970224e+12, 1.01624562e+12,\n",
       "           1.01281236e+12, 1.00940222e+12, 1.00601496e+12, 1.00265036e+12,\n",
       "           9.99308193e+11, 9.95988233e+11, 9.92690258e+11, 9.89414053e+11,\n",
       "           9.86159401e+11, 9.82926092e+11, 9.79713915e+11, 9.76522664e+11,\n",
       "           9.73352136e+11, 9.70202129e+11, 9.67072445e+11, 9.63962887e+11,\n",
       "           9.60873263e+11, 9.57803380e+11, 9.54753051e+11, 9.51722089e+11,\n",
       "           9.48710310e+11, 9.45717533e+11, 9.42743579e+11, 9.39788270e+11,\n",
       "           9.36851431e+11, 9.33932891e+11, 9.31032478e+11, 9.28150025e+11,\n",
       "           9.25285364e+11, 9.22438332e+11, 9.19608767e+11, 9.16796508e+11,\n",
       "           9.14001396e+11, 9.11223277e+11, 9.08461994e+11, 9.05717396e+11,\n",
       "           9.02989331e+11, 9.00277652e+11, 8.97582210e+11, 8.94902860e+11,\n",
       "           8.92239458e+11, 8.89591864e+11, 8.86959935e+11, 8.84343534e+11,\n",
       "           8.81742524e+11, 8.79156768e+11, 8.76586135e+11, 8.74030490e+11,\n",
       "           8.71489703e+11, 8.68963646e+11, 8.66452191e+11, 8.63955210e+11,\n",
       "           8.61472580e+11, 8.59004178e+11, 8.56549880e+11, 8.54109567e+11,\n",
       "           8.51683119e+11, 8.49270419e+11, 8.46871350e+11, 8.44485797e+11,\n",
       "           8.42113646e+11, 8.39754784e+11, 8.37409101e+11, 8.35076485e+11,\n",
       "           8.32756828e+11, 8.30450022e+11, 8.28155961e+11, 8.25874540e+11,\n",
       "           8.23605654e+11, 8.21349200e+11, 8.19105077e+11, 8.16873183e+11,\n",
       "           8.14653418e+11, 8.12445686e+11, 8.10249886e+11, 8.08065925e+11,\n",
       "           8.05893704e+11, 8.03733131e+11, 8.01584112e+11, 7.99446555e+11,\n",
       "           7.97320367e+11, 7.95205459e+11, 7.93101741e+11, 7.91009124e+11,\n",
       "           7.88927521e+11, 7.86856845e+11, 7.84797010e+11, 7.82747932e+11,\n",
       "           7.80709526e+11, 7.78681709e+11, 7.76664399e+11, 7.74657514e+11,\n",
       "           7.72660974e+11, 7.70674699e+11, 7.68698610e+11, 7.66732629e+11,\n",
       "           7.64776679e+11, 7.62830682e+11, 7.60894563e+11, 7.58968248e+11,\n",
       "           7.57051662e+11, 7.55144730e+11, 7.53247382e+11, 7.51359544e+11,\n",
       "           7.49481145e+11, 7.47612115e+11, 7.45752383e+11, 7.43901881e+11,\n",
       "           7.42060540e+11, 7.40228291e+11, 7.38405069e+11, 7.36590806e+11,\n",
       "           7.34785436e+11, 7.32988895e+11, 7.31201117e+11, 7.29422039e+11,\n",
       "           7.27651597e+11, 7.25889729e+11, 7.24136372e+11, 7.22391465e+11,\n",
       "           7.20654947e+11, 7.18926758e+11, 7.17206837e+11, 7.15495126e+11,\n",
       "           7.13791567e+11, 7.12096100e+11, 7.10408668e+11, 7.08729215e+11,\n",
       "           7.07057684e+11, 7.05394019e+11, 7.03738164e+11, 7.02090066e+11,\n",
       "           7.00449668e+11, 6.98816918e+11, 6.97191763e+11, 6.95574148e+11,\n",
       "           6.93964023e+11, 6.92361335e+11, 6.90766032e+11, 6.89178064e+11,\n",
       "           6.87597381e+11, 6.86023931e+11, 6.84457667e+11, 6.82898538e+11,\n",
       "           6.81346495e+11, 6.79801492e+11, 6.78263480e+11, 6.76732411e+11,\n",
       "           6.75208239e+11, 6.73690917e+11, 6.72180399e+11, 6.70676640e+11,\n",
       "           6.69179594e+11, 6.67689216e+11, 6.66205462e+11, 6.64728288e+11,\n",
       "           6.63257650e+11, 6.61793506e+11, 6.60335811e+11, 6.58884523e+11,\n",
       "           6.57439601e+11, 6.56001002e+11, 6.54568686e+11, 6.53142610e+11,\n",
       "           6.51722735e+11, 6.50309020e+11, 6.48901424e+11, 6.47499909e+11,\n",
       "           6.46104435e+11, 6.44714963e+11, 6.43331455e+11, 6.41953872e+11,\n",
       "           6.40582175e+11, 6.39216328e+11, 6.37856294e+11, 6.36502034e+11,\n",
       "           6.35153513e+11, 6.33810693e+11, 6.32473540e+11, 6.31142017e+11,\n",
       "           6.29816088e+11, 6.28495719e+11, 6.27180874e+11, 6.25871520e+11,\n",
       "           6.24567621e+11, 6.23269143e+11, 6.21976054e+11, 6.20688319e+11,\n",
       "           6.19405905e+11, 6.18128779e+11, 6.16856909e+11, 6.15590263e+11,\n",
       "           6.14328807e+11, 6.13072511e+11, 6.11821343e+11, 6.10575271e+11,\n",
       "           6.09334264e+11, 6.08098292e+11, 6.06867324e+11, 6.05641329e+11,\n",
       "           6.04420278e+11, 6.03204141e+11, 6.01992888e+11, 6.00786489e+11,\n",
       "           5.99584916e+11, 5.98388140e+11, 5.97196131e+11, 5.96008863e+11,\n",
       "           5.94826306e+11, 5.93648432e+11, 5.92475213e+11, 5.91306623e+11,\n",
       "           5.90142634e+11, 5.88983218e+11, 5.87828349e+11, 5.86678000e+11,\n",
       "           5.85532145e+11, 5.84390756e+11, 5.83253809e+11, 5.82121278e+11,\n",
       "           5.80993136e+11, 5.79869358e+11, 5.78749919e+11, 5.77634794e+11,\n",
       "           5.76523958e+11, 5.75417386e+11, 5.74315054e+11, 5.73216937e+11,\n",
       "           5.72123011e+11, 5.71033253e+11, 5.69947639e+11, 5.68866144e+11,\n",
       "           5.67788746e+11, 5.66715422e+11, 5.65646147e+11, 5.64580900e+11,\n",
       "           5.63519658e+11, 5.62462398e+11, 5.61409097e+11, 5.60359735e+11,\n",
       "           5.59314287e+11, 5.58272734e+11, 5.57235052e+11, 5.56201221e+11,\n",
       "           5.55171219e+11, 5.54145024e+11, 5.53122616e+11, 5.52103974e+11,\n",
       "           5.51089077e+11, 5.50077905e+11, 5.49070436e+11, 5.48066651e+11,\n",
       "           5.47066529e+11, 5.46070051e+11, 5.45077196e+11, 5.44087946e+11,\n",
       "           5.43102279e+11, 5.42120177e+11, 5.41141621e+11, 5.40166591e+11,\n",
       "           5.39195068e+11, 5.38227034e+11, 5.37262470e+11, 5.36301356e+11,\n",
       "           5.35343675e+11, 5.34389408e+11, 5.33438537e+11, 5.32491044e+11,\n",
       "           5.31546911e+11, 5.30606120e+11, 5.29668654e+11, 5.28734494e+11,\n",
       "           5.27803623e+11, 5.26876025e+11, 5.25951681e+11, 5.25030574e+11,\n",
       "           5.24112689e+11, 5.23198007e+11, 5.22286512e+11, 5.21378188e+11,\n",
       "           5.20473017e+11, 5.19570984e+11, 5.18672073e+11, 5.17776266e+11,\n",
       "           5.16883548e+11, 5.15993904e+11, 5.15107316e+11, 5.14223770e+11,\n",
       "           5.13343250e+11, 5.12465740e+11, 5.11591225e+11, 5.10719690e+11,\n",
       "           5.09851119e+11, 5.08985497e+11, 5.08122810e+11, 5.07263042e+11,\n",
       "           5.06406179e+11, 5.05552206e+11, 5.04701108e+11, 5.03852871e+11,\n",
       "           5.03007480e+11, 5.02164921e+11, 5.01325181e+11, 5.00488244e+11,\n",
       "           4.99654097e+11, 4.98822725e+11, 4.97994116e+11, 4.97168255e+11,\n",
       "           4.96345129e+11, 4.95524724e+11, 4.94707026e+11, 4.93892023e+11,\n",
       "           4.93079701e+11, 4.92270046e+11, 4.91463046e+11, 4.90658687e+11,\n",
       "           4.89856958e+11, 4.89057843e+11, 4.88261332e+11, 4.87467411e+11,\n",
       "           4.86676068e+11, 4.85887290e+11, 4.85101065e+11, 4.84317380e+11,\n",
       "           4.83536223e+11, 4.82757581e+11, 4.81981444e+11, 4.81207798e+11,\n",
       "           4.80436631e+11, 4.79667933e+11, 4.78901690e+11, 4.78137892e+11,\n",
       "           4.77376525e+11, 4.76617580e+11, 4.75861044e+11, 4.75106906e+11,\n",
       "           4.74355155e+11, 4.73605779e+11, 4.72858767e+11, 4.72114107e+11,\n",
       "           4.71371789e+11, 4.70631802e+11, 4.69894135e+11, 4.69158776e+11,\n",
       "           4.68425716e+11, 4.67694942e+11, 4.66966445e+11, 4.66240215e+11,\n",
       "           4.65516239e+11, 4.64794509e+11, 4.64075012e+11, 4.63357740e+11,\n",
       "           4.62642682e+11, 4.61929827e+11, 4.61219166e+11, 4.60510688e+11,\n",
       "           4.59804383e+11, 4.59100242e+11, 4.58398254e+11, 4.57698409e+11,\n",
       "           4.57000698e+11, 4.56305111e+11, 4.55611638e+11, 4.54920270e+11,\n",
       "           4.54230997e+11, 4.53543809e+11, 4.52858698e+11, 4.52175653e+11,\n",
       "           4.51494666e+11, 4.50815726e+11, 4.50138826e+11, 4.49463955e+11,\n",
       "           4.48791105e+11, 4.48120266e+11, 4.47451430e+11, 4.46784587e+11,\n",
       "           4.46119729e+11, 4.45456847e+11, 4.44795932e+11, 4.44136975e+11,\n",
       "           4.43479967e+11, 4.42824901e+11, 4.42171767e+11, 4.41520557e+11,\n",
       "           4.40871262e+11, 4.40223874e+11, 4.39578384e+11, 4.38934785e+11,\n",
       "           4.38293067e+11, 4.37653223e+11, 4.37015245e+11, 4.36379124e+11,\n",
       "           4.35744852e+11, 4.35112421e+11, 4.34481823e+11, 4.33853051e+11,\n",
       "           4.33226095e+11, 4.32600949e+11, 4.31977605e+11, 4.31356055e+11,\n",
       "           4.30736290e+11, 4.30118304e+11, 4.29502089e+11, 4.28887637e+11,\n",
       "           4.28274940e+11, 4.27663991e+11, 4.27054783e+11, 4.26447309e+11,\n",
       "           4.25841560e+11, 4.25237529e+11, 4.24635210e+11, 4.24034594e+11,\n",
       "           4.23435675e+11, 4.22838446e+11, 4.22242899e+11, 4.21649027e+11,\n",
       "           4.21056823e+11, 4.20466281e+11, 4.19877392e+11, 4.19290151e+11,\n",
       "           4.18704550e+11, 4.18120583e+11, 4.17538242e+11, 4.16957522e+11,\n",
       "           4.16378414e+11, 4.15800913e+11, 4.15225011e+11, 4.14650703e+11,\n",
       "           4.14077981e+11, 4.13506839e+11, 4.12937270e+11, 4.12369268e+11,\n",
       "           4.11802827e+11, 4.11237940e+11, 4.10674600e+11, 4.10112802e+11,\n",
       "           4.09552538e+11, 4.08993804e+11, 4.08436591e+11, 4.07880895e+11,\n",
       "           4.07326709e+11, 4.06774027e+11, 4.06222843e+11, 4.05673150e+11,\n",
       "           4.05124943e+11, 4.04578216e+11, 4.04032962e+11, 4.03489176e+11,\n",
       "           4.02946852e+11, 4.02405984e+11, 4.01866566e+11, 4.01328592e+11,\n",
       "           4.00792056e+11, 4.00256953e+11, 3.99723277e+11, 3.99191023e+11,\n",
       "           3.98660184e+11, 3.98130754e+11, 3.97602729e+11, 3.97076103e+11,\n",
       "           3.96550870e+11, 3.96027025e+11, 3.95504562e+11, 3.94983476e+11,\n",
       "           3.94463761e+11, 3.93945411e+11, 3.93428423e+11, 3.92912789e+11,\n",
       "           3.92398505e+11, 3.91885566e+11, 3.91373966e+11, 3.90863700e+11,\n",
       "           3.90354763e+11, 3.89847150e+11, 3.89340855e+11, 3.88835873e+11,\n",
       "           3.88332199e+11, 3.87829829e+11, 3.87328757e+11, 3.86828978e+11,\n",
       "           3.86330487e+11, 3.85833279e+11, 3.85337350e+11, 3.84842693e+11,\n",
       "           3.84349305e+11, 3.83857181e+11, 3.83366315e+11, 3.82876702e+11,\n",
       "           3.82388339e+11, 3.81901220e+11, 3.81415341e+11, 3.80930696e+11,\n",
       "           3.80447282e+11, 3.79965093e+11, 3.79484124e+11, 3.79004372e+11,\n",
       "           3.78525831e+11, 3.78048497e+11, 3.77572365e+11, 3.77097431e+11,\n",
       "           3.76623691e+11, 3.76151139e+11, 3.75679772e+11, 3.75209584e+11,\n",
       "           3.74740572e+11, 3.74272732e+11, 3.73806057e+11, 3.73340545e+11,\n",
       "           3.72876192e+11, 3.72412991e+11, 3.71950940e+11, 3.71490035e+11,\n",
       "           3.71030270e+11, 3.70571642e+11, 3.70114146e+11, 3.69657778e+11,\n",
       "           3.69202534e+11, 3.68748411e+11, 3.68295403e+11, 3.67843507e+11,\n",
       "           3.67392718e+11, 3.66943033e+11, 3.66494447e+11, 3.66046957e+11,\n",
       "           3.65600559e+11, 3.65155247e+11, 3.64711019e+11, 3.64267871e+11,\n",
       "           3.63825799e+11, 3.63384798e+11, 3.62944864e+11, 3.62505995e+11,\n",
       "           3.62068186e+11, 3.61631433e+11, 3.61195733e+11, 3.60761081e+11,\n",
       "           3.60327474e+11, 3.59894908e+11, 3.59463379e+11, 3.59032884e+11,\n",
       "           3.58603419e+11, 3.58174980e+11, 3.57747563e+11, 3.57321166e+11,\n",
       "           3.56895783e+11, 3.56471413e+11, 3.56048050e+11, 3.55625692e+11,\n",
       "           3.55204334e+11, 3.54783974e+11, 3.54364608e+11, 3.53946231e+11,\n",
       "           3.53528842e+11, 3.53112436e+11, 3.52697009e+11, 3.52282559e+11,\n",
       "           3.51869082e+11, 3.51456574e+11, 3.51045033e+11, 3.50634454e+11,\n",
       "           3.50224834e+11, 3.49816170e+11, 3.49408459e+11, 3.49001697e+11,\n",
       "           3.48595881e+11, 3.48191008e+11, 3.47787074e+11, 3.47384076e+11,\n",
       "           3.46982012e+11, 3.46580876e+11, 3.46180667e+11, 3.45781382e+11,\n",
       "           3.45383016e+11, 3.44985567e+11, 3.44589032e+11, 3.44193408e+11,\n",
       "           3.43798690e+11, 3.43404877e+11, 3.43011966e+11, 3.42619952e+11,\n",
       "           3.42228833e+11, 3.41838607e+11, 3.41449269e+11, 3.41060817e+11,\n",
       "           3.40673248e+11, 3.40286558e+11, 3.39900746e+11, 3.39515807e+11,\n",
       "           3.39131740e+11, 3.38748540e+11, 3.38366205e+11, 3.37984733e+11,\n",
       "           3.37604119e+11, 3.37224362e+11, 3.36845458e+11, 3.36467405e+11,\n",
       "           3.36090200e+11, 3.35713839e+11, 3.35338320e+11, 3.34963640e+11,\n",
       "           3.34589797e+11, 3.34216787e+11, 3.33844608e+11, 3.33473257e+11,\n",
       "           3.33102731e+11, 3.32733028e+11, 3.32364144e+11, 3.31996078e+11,\n",
       "           3.31628825e+11, 3.31262385e+11, 3.30896753e+11, 3.30531927e+11,\n",
       "           3.30167905e+11, 3.29804684e+11, 3.29442262e+11, 3.29080634e+11,\n",
       "           3.28719800e+11, 3.28359757e+11, 3.28000501e+11, 3.27642031e+11,\n",
       "           3.27284343e+11, 3.26927435e+11, 3.26571305e+11, 3.26215950e+11,\n",
       "           3.25861367e+11, 3.25507555e+11, 3.25154510e+11, 3.24802230e+11,\n",
       "           3.24450712e+11, 3.24099955e+11, 3.23749955e+11, 3.23400710e+11,\n",
       "           3.23052218e+11, 3.22704476e+11, 3.22357482e+11, 3.22011233e+11,\n",
       "           3.21665727e+11, 3.21320962e+11, 3.20976936e+11, 3.20633645e+11,\n",
       "           3.20291088e+11, 3.19949261e+11, 3.19608164e+11, 3.19267793e+11,\n",
       "           3.18928147e+11, 3.18589222e+11, 3.18251017e+11, 3.17913529e+11,\n",
       "           3.17576756e+11, 3.17240696e+11, 3.16905347e+11, 3.16570705e+11,\n",
       "           3.16236770e+11, 3.15903538e+11, 3.15571008e+11, 3.15239178e+11,\n",
       "           3.14908044e+11, 3.14577605e+11, 3.14247860e+11, 3.13918804e+11,\n",
       "           3.13590437e+11, 3.13262757e+11, 3.12935760e+11, 3.12609445e+11,\n",
       "           3.12283810e+11, 3.11958853e+11, 3.11634572e+11, 3.11310964e+11,\n",
       "           3.10988027e+11, 3.10665760e+11, 3.10344159e+11, 3.10023224e+11,\n",
       "           3.09702952e+11, 3.09383342e+11, 3.09064390e+11, 3.08746095e+11,\n",
       "           3.08428455e+11, 3.08111468e+11, 3.07795131e+11, 3.07479444e+11,\n",
       "           3.07164404e+11, 3.06850008e+11, 3.06536256e+11, 3.06223144e+11,\n",
       "           3.05910671e+11, 3.05598836e+11, 3.05287635e+11, 3.04977068e+11,\n",
       "           3.04667132e+11, 3.04357825e+11, 3.04049146e+11, 3.03741092e+11,\n",
       "           3.03433662e+11, 3.03126853e+11, 3.02820665e+11, 3.02515094e+11,\n",
       "           3.02210139e+11, 3.01905799e+11, 3.01602070e+11, 3.01298953e+11,\n",
       "           3.00996444e+11, 3.00694542e+11, 3.00393244e+11, 3.00092551e+11,\n",
       "           2.99792458e+11] Hz>"
      ]
     },
     "execution_count": 33,
     "metadata": {},
     "output_type": "execute_result"
    }
   ],
   "source": [
    "nu = const.c/(wl*u.micron)\n",
    "# same as (wl*u.micron).to(u.Hz, equivalencies=u.spectral())\n",
    "nu.to(u.Hz)"
   ]
  },
  {
   "cell_type": "code",
   "execution_count": 36,
   "metadata": {},
   "outputs": [
    {
     "data": {
      "text/latex": [
       "$[5.3534368 \\times 10^{12},~4.1637841 \\times 10^{12},~3.3310273 \\times 10^{12},~\\dots,~3.0129714 \\times 10^{8},~3.0069394 \\times 10^{8},~3.0009255 \\times 10^{8}] \\; \\mathrm{Hz}$"
      ],
      "text/plain": [
       "<Quantity [5.35343675e+12, 4.16378414e+12, 3.33102731e+12, 2.72538598e+12,\n",
       "           2.27115498e+12, 1.92174653e+12, 1.64721131e+12, 1.42758313e+12,\n",
       "           1.24913524e+12, 1.10217815e+12, 9.79713915e+11, 8.76586135e+11,\n",
       "           7.88927521e+11, 7.13791567e+11, 6.48901424e+11, 5.92475213e+11,\n",
       "           5.43102279e+11, 4.99654097e+11, 4.61219166e+11, 4.27054783e+11,\n",
       "           3.96550870e+11, 3.69202534e+11, 3.44589032e+11, 3.22357482e+11,\n",
       "           3.02210139e+11, 2.83894373e+11, 2.67194704e+11, 2.51926435e+11,\n",
       "           2.37930522e+11, 2.25069413e+11, 2.13223654e+11, 2.02289108e+11,\n",
       "           1.92174653e+11, 1.82800279e+11, 1.74095504e+11, 1.65998039e+11,\n",
       "           1.58452673e+11, 1.51410332e+11, 1.44827274e+11, 1.38664412e+11,\n",
       "           1.32886728e+11, 1.27462780e+11, 1.22364269e+11, 1.17565670e+11,\n",
       "           1.13043913e+11, 1.08778105e+11, 1.04749287e+11, 1.00940222e+11,\n",
       "           9.73352136e+10, 9.39199430e+10, 9.06813243e+10, 8.76073811e+10,\n",
       "           8.46871350e+10, 8.19105077e+10, 7.92682332e+10, 7.67517814e+10,\n",
       "           7.43532882e+10, 7.20654947e+10, 6.98816918e+10, 6.77956712e+10,\n",
       "           6.58016809e+10, 6.38943858e+10, 6.20688319e+10, 6.03204141e+10,\n",
       "           5.86448470e+10, 5.70381389e+10, 5.54965676e+10, 5.40166591e+10,\n",
       "           5.25951681e+10, 5.12290598e+10, 4.99154942e+10, 4.86518108e+10,\n",
       "           4.74355155e+10, 4.62642682e+10, 4.51358714e+10, 4.40482601e+10,\n",
       "           4.29994920e+10, 4.19877392e+10, 4.10112802e+10, 4.00684921e+10,\n",
       "           3.91578446e+10, 3.82778930e+10, 3.74272732e+10, 3.66046957e+10,\n",
       "           3.58089415e+10, 3.50388567e+10, 3.42933491e+10, 3.35713839e+10,\n",
       "           3.28719800e+10, 3.21942073e+10, 3.15371826e+10, 3.09000678e+10,\n",
       "           3.02820665e+10, 2.96824216e+10, 2.91004133e+10, 2.85353567e+10,\n",
       "           2.79865999e+10, 2.74535218e+10, 2.69355308e+10, 2.64320630e+10,\n",
       "           2.59425803e+10, 2.54665697e+10, 2.50035411e+10, 2.45530269e+10,\n",
       "           2.41145800e+10, 2.36877732e+10, 2.32721983e+10, 2.28674644e+10,\n",
       "           2.24731978e+10, 2.20890405e+10, 2.17146500e+10, 2.13496979e+10,\n",
       "           2.09938696e+10, 2.06468635e+10, 2.03083903e+10, 1.99781726e+10,\n",
       "           1.96559440e+10, 1.93414489e+10, 1.90344418e+10, 1.87346868e+10,\n",
       "           1.84419573e+10, 1.81560355e+10, 1.78767119e+10, 1.76037850e+10,\n",
       "           1.73370610e+10, 1.70763533e+10, 1.68214823e+10, 1.65722752e+10,\n",
       "           1.63285653e+10, 1.60901920e+10, 1.58570008e+10, 1.56288426e+10,\n",
       "           1.54055734e+10, 1.51870546e+10, 1.49731524e+10, 1.47637377e+10,\n",
       "           1.45586858e+10, 1.43578763e+10, 1.41611931e+10, 1.39685238e+10,\n",
       "           1.37797600e+10, 1.35947968e+10, 1.34135328e+10, 1.32358701e+10,\n",
       "           1.30617139e+10, 1.28909726e+10, 1.27235573e+10, 1.25593824e+10,\n",
       "           1.23983647e+10, 1.22404237e+10, 1.20854817e+10, 1.19334630e+10,\n",
       "           1.17842947e+10, 1.16379060e+10, 1.14942281e+10, 1.13531947e+10,\n",
       "           1.12147411e+10, 1.10788048e+10, 1.09453252e+10, 1.08142435e+10,\n",
       "           1.06855025e+10, 1.05590468e+10, 1.04348228e+10, 1.03127781e+10,\n",
       "           1.01928620e+10, 1.00750255e+10, 9.95922058e+09, 9.84540092e+09,\n",
       "           9.73352136e+09, 9.62353807e+09, 9.51540843e+09, 9.40909102e+09,\n",
       "           9.30454556e+09, 9.20173290e+09, 9.10061496e+09, 9.00115469e+09,\n",
       "           8.90331605e+09, 8.80706398e+09, 8.71236437e+09, 8.61918400e+09,\n",
       "           8.52749056e+09, 8.43725256e+09, 8.34843938e+09, 8.26102116e+09,\n",
       "           8.17496886e+09, 8.09025416e+09, 8.00684947e+09, 7.92472794e+09,\n",
       "           7.84386337e+09, 7.76423024e+09, 7.68580367e+09, 7.60855941e+09,\n",
       "           7.53247382e+09, 7.45752383e+09, 7.38368696e+09, 7.31094128e+09,\n",
       "           7.23926538e+09, 7.16863840e+09, 7.09903997e+09, 7.03045021e+09,\n",
       "           6.96284973e+09, 6.89621959e+09, 6.83054131e+09, 6.76579684e+09,\n",
       "           6.70196857e+09, 6.63903929e+09, 6.57699219e+09, 6.51581087e+09,\n",
       "           6.45547929e+09, 6.39598178e+09, 6.33730305e+09, 6.27942813e+09,\n",
       "           6.22234242e+09, 6.16603163e+09, 6.11048180e+09, 6.05567927e+09,\n",
       "           6.00161071e+09, 5.94826306e+09, 5.89562356e+09, 5.84367974e+09,\n",
       "           5.79241939e+09, 5.74183058e+09, 5.69190161e+09, 5.64262108e+09,\n",
       "           5.59397780e+09, 5.54596082e+09, 5.49855944e+09, 5.45176319e+09,\n",
       "           5.40556181e+09, 5.35994525e+09, 5.31490370e+09, 5.27042752e+09,\n",
       "           5.22650729e+09, 5.18313378e+09, 5.14029797e+09, 5.09799099e+09,\n",
       "           5.05620418e+09, 5.01492904e+09, 4.97415726e+09, 4.93388068e+09,\n",
       "           4.89409132e+09, 4.85478135e+09, 4.81594310e+09, 4.77756905e+09,\n",
       "           4.73965184e+09, 4.70218423e+09, 4.66515916e+09, 4.62856968e+09,\n",
       "           4.59240898e+09, 4.55667039e+09, 4.52134736e+09, 4.48643348e+09,\n",
       "           4.45192245e+09, 4.41780810e+09, 4.38408438e+09, 4.35074533e+09,\n",
       "           4.31778514e+09, 4.28519808e+09, 4.25297855e+09, 4.22112103e+09,\n",
       "           4.18962013e+09, 4.15847054e+09, 4.12766705e+09, 4.09720456e+09,\n",
       "           4.06707806e+09, 4.03728262e+09, 4.00781340e+09, 3.97866567e+09,\n",
       "           3.94983476e+09, 3.92131609e+09, 3.89310519e+09, 3.86519762e+09,\n",
       "           3.83758907e+09, 3.81027527e+09, 3.78325204e+09, 3.75651527e+09,\n",
       "           3.73006094e+09, 3.70388508e+09, 3.67798378e+09, 3.65235323e+09,\n",
       "           3.62698967e+09, 3.60188939e+09, 3.57704878e+09, 3.55246425e+09,\n",
       "           3.52813230e+09, 3.50404949e+09, 3.48021242e+09, 3.45661776e+09,\n",
       "           3.43326223e+09, 3.41014262e+09, 3.38725576e+09, 3.36459853e+09,\n",
       "           3.34216787e+09, 3.31996078e+09, 3.29797428e+09, 3.27620547e+09,\n",
       "           3.25465149e+09, 3.23330951e+09, 3.21217677e+09, 3.19125054e+09,\n",
       "           3.17052813e+09, 3.15000691e+09, 3.12968429e+09, 3.10955770e+09,\n",
       "           3.08962464e+09, 3.06988263e+09, 3.05032924e+09, 3.03096207e+09,\n",
       "           3.01177876e+09, 2.99277700e+09, 2.97395451e+09, 2.95530902e+09,\n",
       "           2.93683834e+09, 2.91854028e+09, 2.90041270e+09, 2.88245349e+09,\n",
       "           2.86466057e+09, 2.84703189e+09, 2.82956544e+09, 2.81225923e+09,\n",
       "           2.79511130e+09, 2.77811975e+09, 2.76128266e+09, 2.74459817e+09,\n",
       "           2.72806445e+09, 2.71167967e+09, 2.69544207e+09, 2.67934988e+09,\n",
       "           2.66340137e+09, 2.64759483e+09, 2.63192859e+09, 2.61640099e+09,\n",
       "           2.60101039e+09, 2.58575520e+09, 2.57063383e+09, 2.55564471e+09,\n",
       "           2.54078631e+09, 2.52605711e+09, 2.51145563e+09, 2.49698038e+09,\n",
       "           2.48262991e+09, 2.46840281e+09, 2.45429765e+09, 2.44031305e+09,\n",
       "           2.42644763e+09, 2.41270005e+09, 2.39906898e+09, 2.38555310e+09,\n",
       "           2.37215112e+09, 2.35886175e+09, 2.34568376e+09, 2.33261588e+09,\n",
       "           2.31965690e+09, 2.30680562e+09, 2.29406083e+09, 2.28142138e+09,\n",
       "           2.26888610e+09, 2.25645385e+09, 2.24412350e+09, 2.23189394e+09,\n",
       "           2.21976408e+09, 2.20773284e+09, 2.19579915e+09, 2.18396196e+09,\n",
       "           2.17222023e+09, 2.16057293e+09, 2.14901907e+09, 2.13755763e+09,\n",
       "           2.12618765e+09, 2.11490814e+09, 2.10371815e+09, 2.09261673e+09,\n",
       "           2.08160296e+09, 2.07067591e+09, 2.05983467e+09, 2.04907836e+09,\n",
       "           2.03840607e+09, 2.02781695e+09, 2.01731013e+09, 2.00688475e+09,\n",
       "           1.99653999e+09, 1.98627500e+09, 1.97608897e+09, 1.96598110e+09,\n",
       "           1.95595058e+09, 1.94599664e+09, 1.93611848e+09, 1.92631535e+09,\n",
       "           1.91658649e+09, 1.90693114e+09, 1.89734857e+09, 1.88783805e+09,\n",
       "           1.87839886e+09, 1.86903029e+09, 1.85973163e+09, 1.85050219e+09,\n",
       "           1.84134129e+09, 1.83224825e+09, 1.82322239e+09, 1.81426307e+09,\n",
       "           1.80536962e+09, 1.79654141e+09, 1.78777779e+09, 1.77907814e+09,\n",
       "           1.77044184e+09, 1.76186827e+09, 1.75335683e+09, 1.74490692e+09,\n",
       "           1.73651794e+09, 1.72818932e+09, 1.71992047e+09, 1.71171083e+09,\n",
       "           1.70355982e+09, 1.69546690e+09, 1.68743152e+09, 1.67945312e+09,\n",
       "           1.67153117e+09, 1.66366514e+09, 1.65585450e+09, 1.64809875e+09,\n",
       "           1.64039735e+09, 1.63274981e+09, 1.62515562e+09, 1.61761430e+09,\n",
       "           1.61012534e+09, 1.60268828e+09, 1.59530261e+09, 1.58796789e+09,\n",
       "           1.58068363e+09, 1.57344938e+09, 1.56626468e+09, 1.55912908e+09,\n",
       "           1.55204213e+09, 1.54500339e+09, 1.53801243e+09, 1.53106880e+09,\n",
       "           1.52417210e+09, 1.51732188e+09, 1.51051775e+09, 1.50375928e+09,\n",
       "           1.49704607e+09, 1.49037771e+09, 1.48375381e+09, 1.47717397e+09,\n",
       "           1.47063781e+09, 1.46414492e+09, 1.45769495e+09, 1.45128750e+09,\n",
       "           1.44492220e+09, 1.43859869e+09, 1.43231660e+09, 1.42607557e+09,\n",
       "           1.41987524e+09, 1.41371526e+09, 1.40759528e+09, 1.40151496e+09,\n",
       "           1.39547394e+09, 1.38947190e+09, 1.38350851e+09, 1.37758342e+09,\n",
       "           1.37169631e+09, 1.36584686e+09, 1.36003474e+09, 1.35425965e+09,\n",
       "           1.34852126e+09, 1.34281927e+09, 1.33715336e+09, 1.33152324e+09,\n",
       "           1.32592861e+09, 1.32036916e+09, 1.31484460e+09, 1.30935464e+09,\n",
       "           1.30389900e+09, 1.29847738e+09, 1.29308951e+09, 1.28773510e+09,\n",
       "           1.28241388e+09, 1.27712558e+09, 1.27186992e+09, 1.26664663e+09,\n",
       "           1.26145546e+09, 1.25629613e+09, 1.25116839e+09, 1.24607198e+09,\n",
       "           1.24100665e+09, 1.23597214e+09, 1.23096820e+09, 1.22599459e+09,\n",
       "           1.22105107e+09, 1.21613738e+09, 1.21125329e+09, 1.20639857e+09,\n",
       "           1.20157298e+09, 1.19677628e+09, 1.19200825e+09, 1.18726865e+09,\n",
       "           1.18255727e+09, 1.17787387e+09, 1.17321824e+09, 1.16859016e+09,\n",
       "           1.16398942e+09, 1.15941578e+09, 1.15486906e+09, 1.15034902e+09,\n",
       "           1.14585547e+09, 1.14138820e+09, 1.13694700e+09, 1.13253167e+09,\n",
       "           1.12814201e+09, 1.12377783e+09, 1.11943891e+09, 1.11512508e+09,\n",
       "           1.11083614e+09, 1.10657190e+09, 1.10233216e+09, 1.09811674e+09,\n",
       "           1.09392545e+09, 1.08975812e+09, 1.08561455e+09, 1.08149457e+09,\n",
       "           1.07739800e+09, 1.07332466e+09, 1.06927438e+09, 1.06524698e+09,\n",
       "           1.06124229e+09, 1.05726015e+09, 1.05330037e+09, 1.04936280e+09,\n",
       "           1.04544727e+09, 1.04155361e+09, 1.03768166e+09, 1.03383127e+09,\n",
       "           1.03000226e+09, 1.02619449e+09, 1.02240779e+09, 1.01864202e+09,\n",
       "           1.01489701e+09, 1.01117262e+09, 1.00746869e+09, 1.00378507e+09,\n",
       "           1.00012163e+09, 9.96478195e+08, 9.92854638e+08, 9.89250810e+08,\n",
       "           9.85666568e+08, 9.82101770e+08, 9.78556277e+08, 9.75029948e+08,\n",
       "           9.71522646e+08, 9.68034234e+08, 9.64564577e+08, 9.61113541e+08,\n",
       "           9.57680993e+08, 9.54266800e+08, 9.50870833e+08, 9.47492962e+08,\n",
       "           9.44133057e+08, 9.40790994e+08, 9.37466644e+08, 9.34159883e+08,\n",
       "           9.30870588e+08, 9.27598635e+08, 9.24343903e+08, 9.21106271e+08,\n",
       "           9.17885620e+08, 9.14681830e+08, 9.11494786e+08, 9.08324369e+08,\n",
       "           9.05170465e+08, 9.02032959e+08, 8.98911738e+08, 8.95806689e+08,\n",
       "           8.92717700e+08, 8.89644661e+08, 8.86587463e+08, 8.83545997e+08,\n",
       "           8.80520154e+08, 8.77509829e+08, 8.74514915e+08, 8.71535307e+08,\n",
       "           8.68570901e+08, 8.65621594e+08, 8.62687284e+08, 8.59767868e+08,\n",
       "           8.56863247e+08, 8.53973320e+08, 8.51097989e+08, 8.48237156e+08,\n",
       "           8.45390722e+08, 8.42558593e+08, 8.39740671e+08, 8.36936862e+08,\n",
       "           8.34147073e+08, 8.31371209e+08, 8.28609179e+08, 8.25860889e+08,\n",
       "           8.23126251e+08, 8.20405172e+08, 8.17697564e+08, 8.15003338e+08,\n",
       "           8.12322406e+08, 8.09654681e+08, 8.07000075e+08, 8.04358504e+08,\n",
       "           8.01729881e+08, 7.99114123e+08, 7.96511146e+08, 7.93920865e+08,\n",
       "           7.91343200e+08, 7.88778068e+08, 7.86225389e+08, 7.83685080e+08,\n",
       "           7.81157064e+08, 7.78641260e+08, 7.76137591e+08, 7.73645977e+08,\n",
       "           7.71166343e+08, 7.68698610e+08, 7.66242704e+08, 7.63798549e+08,\n",
       "           7.61366069e+08, 7.58945192e+08, 7.56535842e+08, 7.54137947e+08,\n",
       "           7.51751434e+08, 7.49376232e+08, 7.47012269e+08, 7.44659475e+08,\n",
       "           7.42317778e+08, 7.39987110e+08, 7.37667402e+08, 7.35358583e+08,\n",
       "           7.33060588e+08, 7.30773347e+08, 7.28496795e+08, 7.26230864e+08,\n",
       "           7.23975489e+08, 7.21730603e+08, 7.19496143e+08, 7.17272044e+08,\n",
       "           7.15058241e+08, 7.12854672e+08, 7.10661273e+08, 7.08477982e+08,\n",
       "           7.06304736e+08, 7.04141475e+08, 7.01988138e+08, 6.99844662e+08,\n",
       "           6.97710990e+08, 6.95587060e+08, 6.93472813e+08, 6.91368192e+08,\n",
       "           6.89273137e+08, 6.87187590e+08, 6.85111495e+08, 6.83044793e+08,\n",
       "           6.80987429e+08, 6.78939347e+08, 6.76900490e+08, 6.74870803e+08,\n",
       "           6.72850232e+08, 6.70838722e+08, 6.68836218e+08, 6.66842667e+08,\n",
       "           6.64858017e+08, 6.62882213e+08, 6.60915203e+08, 6.58956936e+08,\n",
       "           6.57007359e+08, 6.55066422e+08, 6.53134072e+08, 6.51210261e+08,\n",
       "           6.49294936e+08, 6.47388050e+08, 6.45489551e+08, 6.43599391e+08,\n",
       "           6.41717522e+08, 6.39843894e+08, 6.37978460e+08, 6.36121172e+08,\n",
       "           6.34271982e+08, 6.32430844e+08, 6.30597711e+08, 6.28772537e+08,\n",
       "           6.26955276e+08, 6.25145881e+08, 6.23344308e+08, 6.21550511e+08,\n",
       "           6.19764446e+08, 6.17986069e+08, 6.16215335e+08, 6.14452201e+08,\n",
       "           6.12696624e+08, 6.10948559e+08, 6.09207965e+08, 6.07474799e+08,\n",
       "           6.05749018e+08, 6.04030581e+08, 6.02319446e+08, 6.00615572e+08,\n",
       "           5.98918918e+08, 5.97229443e+08, 5.95547107e+08, 5.93871869e+08,\n",
       "           5.92203689e+08, 5.90542529e+08, 5.88888348e+08, 5.87241108e+08,\n",
       "           5.85600770e+08, 5.83967295e+08, 5.82340645e+08, 5.80720782e+08,\n",
       "           5.79107669e+08, 5.77501268e+08, 5.75901541e+08, 5.74308452e+08,\n",
       "           5.72721965e+08, 5.71142042e+08, 5.69568648e+08, 5.68001747e+08,\n",
       "           5.66441303e+08, 5.64887280e+08, 5.63339643e+08, 5.61798358e+08,\n",
       "           5.60263390e+08, 5.58734704e+08, 5.57212266e+08, 5.55696043e+08,\n",
       "           5.54185999e+08, 5.52682102e+08, 5.51184319e+08, 5.49692615e+08,\n",
       "           5.48206960e+08, 5.46727319e+08, 5.45253660e+08, 5.43785952e+08,\n",
       "           5.42324162e+08, 5.40868258e+08, 5.39418209e+08, 5.37973984e+08,\n",
       "           5.36535550e+08, 5.35102879e+08, 5.33675938e+08, 5.32254697e+08,\n",
       "           5.30839126e+08, 5.29429195e+08, 5.28024873e+08, 5.26626132e+08,\n",
       "           5.25232941e+08, 5.23845271e+08, 5.22463094e+08, 5.21086379e+08,\n",
       "           5.19715100e+08, 5.18349225e+08, 5.16988729e+08, 5.15633581e+08,\n",
       "           5.14283755e+08, 5.12939223e+08, 5.11599956e+08, 5.10265927e+08,\n",
       "           5.08937110e+08, 5.07613476e+08, 5.06294999e+08, 5.04981653e+08,\n",
       "           5.03673410e+08, 5.02370245e+08, 5.01072131e+08, 4.99779041e+08,\n",
       "           4.98490951e+08, 4.97207834e+08, 4.95929665e+08, 4.94656418e+08,\n",
       "           4.93388068e+08, 4.92124590e+08, 4.90865960e+08, 4.89612151e+08,\n",
       "           4.88363141e+08, 4.87118904e+08, 4.85879415e+08, 4.84644652e+08,\n",
       "           4.83414589e+08, 4.82189204e+08, 4.80968472e+08, 4.79752369e+08,\n",
       "           4.78540873e+08, 4.77333961e+08, 4.76131608e+08, 4.74933793e+08,\n",
       "           4.73740492e+08, 4.72551683e+08, 4.71367342e+08, 4.70187449e+08,\n",
       "           4.69011981e+08, 4.67840914e+08, 4.66674229e+08, 4.65511902e+08,\n",
       "           4.64353912e+08, 4.63200238e+08, 4.62050858e+08, 4.60905750e+08,\n",
       "           4.59764894e+08, 4.58628269e+08, 4.57495854e+08, 4.56367627e+08,\n",
       "           4.55243569e+08, 4.54123659e+08, 4.53007876e+08, 4.51896200e+08,\n",
       "           4.50788611e+08, 4.49685090e+08, 4.48585615e+08, 4.47490168e+08,\n",
       "           4.46398728e+08, 4.45311277e+08, 4.44227795e+08, 4.43148262e+08,\n",
       "           4.42072659e+08, 4.41000968e+08, 4.39933169e+08, 4.38869244e+08,\n",
       "           4.37809173e+08, 4.36752938e+08, 4.35700522e+08, 4.34651904e+08,\n",
       "           4.33607068e+08, 4.32565995e+08, 4.31528666e+08, 4.30495065e+08,\n",
       "           4.29465172e+08, 4.28438971e+08, 4.27416444e+08, 4.26397572e+08,\n",
       "           4.25382340e+08, 4.24370729e+08, 4.23362723e+08, 4.22358304e+08,\n",
       "           4.21357454e+08, 4.20360159e+08, 4.19366399e+08, 4.18376160e+08,\n",
       "           4.17389424e+08, 4.16406174e+08, 4.15426395e+08, 4.14450070e+08,\n",
       "           4.13477182e+08, 4.12507716e+08, 4.11541656e+08, 4.10578986e+08,\n",
       "           4.09619689e+08, 4.08663750e+08, 4.07711154e+08, 4.06761885e+08,\n",
       "           4.05815927e+08, 4.04873265e+08, 4.03933884e+08, 4.02997769e+08,\n",
       "           4.02064903e+08, 4.01135273e+08, 4.00208864e+08, 3.99285660e+08,\n",
       "           3.98365647e+08, 3.97448810e+08, 3.96535135e+08, 3.95624606e+08,\n",
       "           3.94717211e+08, 3.93812933e+08, 3.92911759e+08, 3.92013675e+08,\n",
       "           3.91118667e+08, 3.90226720e+08, 3.89337821e+08, 3.88451955e+08,\n",
       "           3.87569110e+08, 3.86689271e+08, 3.85812425e+08, 3.84938557e+08,\n",
       "           3.84067656e+08, 3.83199706e+08, 3.82334695e+08, 3.81472610e+08,\n",
       "           3.80613438e+08, 3.79757165e+08, 3.78903778e+08, 3.78053264e+08,\n",
       "           3.77205611e+08, 3.76360806e+08, 3.75518835e+08, 3.74679687e+08,\n",
       "           3.73843348e+08, 3.73009807e+08, 3.72179050e+08, 3.71351066e+08,\n",
       "           3.70525841e+08, 3.69703364e+08, 3.68883623e+08, 3.68066605e+08,\n",
       "           3.67252298e+08, 3.66440691e+08, 3.65631771e+08, 3.64825527e+08,\n",
       "           3.64021946e+08, 3.63221018e+08, 3.62422730e+08, 3.61627071e+08,\n",
       "           3.60834029e+08, 3.60043593e+08, 3.59255751e+08, 3.58470493e+08,\n",
       "           3.57687806e+08, 3.56907680e+08, 3.56130104e+08, 3.55355065e+08,\n",
       "           3.54582554e+08, 3.53812560e+08, 3.53045070e+08, 3.52280076e+08,\n",
       "           3.51517565e+08, 3.50757527e+08, 3.49999951e+08, 3.49244827e+08,\n",
       "           3.48492144e+08, 3.47741892e+08, 3.46994060e+08, 3.46248638e+08,\n",
       "           3.45505615e+08, 3.44764981e+08, 3.44026726e+08, 3.43290840e+08,\n",
       "           3.42557313e+08, 3.41826134e+08, 3.41097294e+08, 3.40370782e+08,\n",
       "           3.39646589e+08, 3.38924704e+08, 3.38205119e+08, 3.37487823e+08,\n",
       "           3.36772806e+08, 3.36060060e+08, 3.35349573e+08, 3.34641338e+08,\n",
       "           3.33935343e+08, 3.33231581e+08, 3.32530040e+08, 3.31830713e+08,\n",
       "           3.31133590e+08, 3.30438661e+08, 3.29745918e+08, 3.29055350e+08,\n",
       "           3.28366950e+08, 3.27680708e+08, 3.26996614e+08, 3.26314661e+08,\n",
       "           3.25634839e+08, 3.24957139e+08, 3.24281552e+08, 3.23608070e+08,\n",
       "           3.22936684e+08, 3.22267385e+08, 3.21600165e+08, 3.20935015e+08,\n",
       "           3.20271926e+08, 3.19610890e+08, 3.18951899e+08, 3.18294943e+08,\n",
       "           3.17640015e+08, 3.16987107e+08, 3.16336209e+08, 3.15687314e+08,\n",
       "           3.15040414e+08, 3.14395500e+08, 3.13752565e+08, 3.13111599e+08,\n",
       "           3.12472596e+08, 3.11835547e+08, 3.11200444e+08, 3.10567279e+08,\n",
       "           3.09936045e+08, 3.09306733e+08, 3.08679336e+08, 3.08053846e+08,\n",
       "           3.07430255e+08, 3.06808556e+08, 3.06188741e+08, 3.05570802e+08,\n",
       "           3.04954732e+08, 3.04340523e+08, 3.03728168e+08, 3.03117659e+08,\n",
       "           3.02508989e+08, 3.01902150e+08, 3.01297136e+08, 3.00693938e+08,\n",
       "           3.00092551e+08] Hz>"
      ]
     },
     "execution_count": 36,
     "metadata": {},
     "output_type": "execute_result"
    }
   ],
   "source": [
    "dnu = const.c/((wl-1)*u.micron) - const.c/(wl*u.micron)\n",
    "dnu.to(u.Hz)"
   ]
  },
  {
   "cell_type": "code",
   "execution_count": 47,
   "metadata": {},
   "outputs": [],
   "source": [
    "wlambda = np.arange(8,1001)*u.micron\n",
    "SED = GreybodyPL(wl*1.0,popt1[0],popt1[1])"
   ]
  },
  {
   "cell_type": "code",
   "execution_count": 48,
   "metadata": {},
   "outputs": [
    {
     "data": {
      "text/latex": [
       "$[5.776056 \\times 10^{11},~5.643616 \\times 10^{11},~5.5277373 \\times 10^{11},~\\dots,~19115789,~19015247,~18915328] \\; \\mathrm{Hz\\,Jy}$"
      ],
      "text/plain": [
       "<Quantity [5.77605597e+11, 5.64361603e+11, 5.52773728e+11, 5.42234452e+11,\n",
       "           5.32362581e+11, 5.22910801e+11, 5.13718313e+11, 5.04687558e+11,\n",
       "           4.95774562e+11, 4.86986250e+11, 4.78379675e+11, 4.70059497e+11,\n",
       "           4.62171646e+11, 4.54892793e+11, 4.48416556e+11, 4.42938150e+11,\n",
       "           4.38639364e+11, 4.35675483e+11, 4.34165273e+11, 4.34184533e+11,\n",
       "           4.35763281e+11, 4.38886159e+11, 4.43495513e+11, 4.49496407e+11,\n",
       "           4.56762897e+11, 4.65144922e+11, 4.74475288e+11, 4.84576353e+11,\n",
       "           4.95266106e+11, 5.06363481e+11, 5.17692815e+11, 5.29087411e+11,\n",
       "           5.40392268e+11, 5.51466010e+11, 5.62182129e+11, 5.72429622e+11,\n",
       "           5.82113128e+11, 5.91152659e+11, 5.99483021e+11, 6.07052995e+11,\n",
       "           6.13824356e+11, 6.19770785e+11, 6.24876726e+11, 6.29136226e+11,\n",
       "           6.32551785e+11, 6.35133252e+11, 6.36896769e+11, 6.37863785e+11,\n",
       "           6.38060142e+11, 6.37515243e+11, 6.36261299e+11, 6.34332646e+11,\n",
       "           6.31765154e+11, 6.28595691e+11, 6.24861666e+11, 6.20600634e+11,\n",
       "           6.15849950e+11, 6.10646489e+11, 6.05026399e+11, 5.99024911e+11,\n",
       "           5.92676174e+11, 5.86013132e+11, 5.79067427e+11, 5.71869332e+11,\n",
       "           5.64447695e+11, 5.56829921e+11, 5.49041948e+11, 5.41108260e+11,\n",
       "           5.33051893e+11, 5.24894460e+11, 5.16656185e+11, 5.08355937e+11,\n",
       "           5.00011278e+11, 4.91638504e+11, 4.83252701e+11, 4.74867794e+11,\n",
       "           4.66496601e+11, 4.58150888e+11, 4.49841421e+11, 4.41578024e+11,\n",
       "           4.33369629e+11, 4.25224329e+11, 4.17149430e+11, 4.09151499e+11,\n",
       "           4.01236412e+11, 3.93409402e+11, 3.85675099e+11, 3.78037577e+11,\n",
       "           3.70500388e+11, 3.63066607e+11, 3.55738863e+11, 3.48519375e+11,\n",
       "           3.41409983e+11, 3.34412180e+11, 3.27527141e+11, 3.20755746e+11,\n",
       "           3.14098607e+11, 3.07556095e+11, 3.01128354e+11, 2.94815326e+11,\n",
       "           2.88616772e+11, 2.82532284e+11, 2.76561304e+11, 2.70703139e+11,\n",
       "           2.64956974e+11, 2.59321885e+11, 2.53796852e+11, 2.48380767e+11,\n",
       "           2.43072446e+11, 2.37870638e+11, 2.32774033e+11, 2.27781270e+11,\n",
       "           2.22890943e+11, 2.18101608e+11, 2.13411791e+11, 2.08819988e+11,\n",
       "           2.04324675e+11, 1.99924313e+11, 1.95617345e+11, 1.91402208e+11,\n",
       "           1.87277332e+11, 1.83241142e+11, 1.79292065e+11, 1.75428529e+11,\n",
       "           1.71648967e+11, 1.67951815e+11, 1.64335523e+11, 1.60798546e+11,\n",
       "           1.57339352e+11, 1.53956422e+11, 1.50648250e+11, 1.47413346e+11,\n",
       "           1.44250235e+11, 1.41157460e+11, 1.38133579e+11, 1.35177171e+11,\n",
       "           1.32286831e+11, 1.29461176e+11, 1.26698842e+11, 1.23998482e+11,\n",
       "           1.21358773e+11, 1.18778412e+11, 1.16256115e+11, 1.13790621e+11,\n",
       "           1.11380688e+11, 1.09025097e+11, 1.06722650e+11, 1.04472169e+11,\n",
       "           1.02272499e+11, 1.00122505e+11, 9.80210728e+10, 9.59671105e+10,\n",
       "           9.39595464e+10, 9.19973294e+10, 9.00794295e+10, 8.82048370e+10,\n",
       "           8.63725622e+10, 8.45816361e+10, 8.28311089e+10, 8.11200511e+10,\n",
       "           7.94475522e+10, 7.78127212e+10, 7.62146857e+10, 7.46525923e+10,\n",
       "           7.31256060e+10, 7.16329098e+10, 7.01737047e+10, 6.87472093e+10,\n",
       "           6.73526597e+10, 6.59893087e+10, 6.46564261e+10, 6.33532982e+10,\n",
       "           6.20792274e+10, 6.08335320e+10, 5.96155460e+10, 5.84246186e+10,\n",
       "           5.72601141e+10, 5.61214115e+10, 5.50079043e+10, 5.39190001e+10,\n",
       "           5.28541205e+10, 5.18127006e+10, 5.07941887e+10, 4.97980465e+10,\n",
       "           4.88237481e+10, 4.78707802e+10, 4.69386419e+10, 4.60268441e+10,\n",
       "           4.51349094e+10, 4.42623719e+10, 4.34087768e+10, 4.25736803e+10,\n",
       "           4.17566494e+10, 4.09572613e+10, 4.01751036e+10, 3.94097738e+10,\n",
       "           3.86608791e+10, 3.79280364e+10, 3.72108717e+10, 3.65090201e+10,\n",
       "           3.58221256e+10, 3.51498409e+10, 3.44918270e+10, 3.38477533e+10,\n",
       "           3.32172971e+10, 3.26001437e+10, 3.19959860e+10, 3.14045243e+10,\n",
       "           3.08254662e+10, 3.02585266e+10, 2.97034270e+10, 2.91598961e+10,\n",
       "           2.86276689e+10, 2.81064869e+10, 2.75960979e+10, 2.70962558e+10,\n",
       "           2.66067206e+10, 2.61272579e+10, 2.56576393e+10, 2.51976416e+10,\n",
       "           2.47470473e+10, 2.43056439e+10, 2.38732243e+10, 2.34495862e+10,\n",
       "           2.30345323e+10, 2.26278700e+10, 2.22294114e+10, 2.18389731e+10,\n",
       "           2.14563761e+10, 2.10814457e+10, 2.07140115e+10, 2.03539070e+10,\n",
       "           2.00009699e+10, 1.96550416e+10, 1.93159674e+10, 1.89835962e+10,\n",
       "           1.86577807e+10, 1.83383768e+10, 1.80252442e+10, 1.77182456e+10,\n",
       "           1.74172472e+10, 1.71221182e+10, 1.68327309e+10, 1.65489609e+10,\n",
       "           1.62706863e+10, 1.59977884e+10, 1.57301512e+10, 1.54676614e+10,\n",
       "           1.52102083e+10, 1.49576839e+10, 1.47099828e+10, 1.44670018e+10,\n",
       "           1.42286403e+10, 1.39948001e+10, 1.37653850e+10, 1.35403014e+10,\n",
       "           1.33194577e+10, 1.31027642e+10, 1.28901336e+10, 1.26814806e+10,\n",
       "           1.24767216e+10, 1.22757751e+10, 1.20785615e+10, 1.18850030e+10,\n",
       "           1.16950235e+10, 1.15085486e+10, 1.13255059e+10, 1.11458242e+10,\n",
       "           1.09694343e+10, 1.07962684e+10, 1.06262602e+10, 1.04593450e+10,\n",
       "           1.02954594e+10, 1.01345417e+10, 9.97653129e+09, 9.82136911e+09,\n",
       "           9.66899735e+09, 9.51935951e+09, 9.37240035e+09, 9.22806584e+09,\n",
       "           9.08630318e+09, 8.94706073e+09, 8.81028798e+09, 8.67593556e+09,\n",
       "           8.54395518e+09, 8.41429959e+09, 8.28692263e+09, 8.16177909e+09,\n",
       "           8.03882481e+09, 7.91801656e+09, 7.79931205e+09, 7.68266993e+09,\n",
       "           7.56804974e+09, 7.45541190e+09, 7.34471767e+09, 7.23592919e+09,\n",
       "           7.12900937e+09, 7.02392193e+09, 6.92063140e+09, 6.81910303e+09,\n",
       "           6.71930283e+09, 6.62119755e+09, 6.52475463e+09, 6.42994221e+09,\n",
       "           6.33672910e+09, 6.24508478e+09, 6.15497938e+09, 6.06638364e+09,\n",
       "           5.97926895e+09, 5.89360726e+09, 5.80937115e+09, 5.72653374e+09,\n",
       "           5.64506874e+09, 5.56495039e+09, 5.48615347e+09, 5.40865329e+09,\n",
       "           5.33242568e+09, 5.25744695e+09, 5.18369391e+09, 5.11114385e+09,\n",
       "           5.03977453e+09, 4.96956415e+09, 4.90049139e+09, 4.83253533e+09,\n",
       "           4.76567551e+09, 4.69989185e+09, 4.63516472e+09, 4.57147485e+09,\n",
       "           4.50880339e+09, 4.44713187e+09, 4.38644216e+09, 4.32671654e+09,\n",
       "           4.26793761e+09, 4.21008834e+09, 4.15315204e+09, 4.09711234e+09,\n",
       "           4.04195321e+09, 3.98765894e+09, 3.93421413e+09, 3.88160367e+09,\n",
       "           3.82981277e+09, 3.77882692e+09, 3.72863191e+09, 3.67921379e+09,\n",
       "           3.63055890e+09, 3.58265384e+09, 3.53548548e+09, 3.48904093e+09,\n",
       "           3.44330758e+09, 3.39827302e+09, 3.35392514e+09, 3.31025201e+09,\n",
       "           3.26724197e+09, 3.22488356e+09, 3.18316555e+09, 3.14207693e+09,\n",
       "           3.10160689e+09, 3.06174485e+09, 3.02248040e+09, 2.98380335e+09,\n",
       "           2.94570371e+09, 2.90817165e+09, 2.87119757e+09, 2.83477200e+09,\n",
       "           2.79888570e+09, 2.76352957e+09, 2.72869469e+09, 2.69437232e+09,\n",
       "           2.66055387e+09, 2.62723090e+09, 2.59439517e+09, 2.56203854e+09,\n",
       "           2.53015306e+09, 2.49873092e+09, 2.46776444e+09, 2.43724609e+09,\n",
       "           2.40716849e+09, 2.37752438e+09, 2.34830665e+09, 2.31950830e+09,\n",
       "           2.29112248e+09, 2.26314245e+09, 2.23556160e+09, 2.20837343e+09,\n",
       "           2.18157158e+09, 2.15514979e+09, 2.12910190e+09, 2.10342190e+09,\n",
       "           2.07810385e+09, 2.05314194e+09, 2.02853045e+09, 2.00426377e+09,\n",
       "           1.98033640e+09, 1.95674293e+09, 1.93347803e+09, 1.91053649e+09,\n",
       "           1.88791319e+09, 1.86560308e+09, 1.84360122e+09, 1.82190275e+09,\n",
       "           1.80050290e+09, 1.77939698e+09, 1.75858038e+09, 1.73804857e+09,\n",
       "           1.71779711e+09, 1.69782163e+09, 1.67811784e+09, 1.65868151e+09,\n",
       "           1.63950851e+09, 1.62059476e+09, 1.60193627e+09, 1.58352909e+09,\n",
       "           1.56536936e+09, 1.54745329e+09, 1.52977714e+09, 1.51233724e+09,\n",
       "           1.49512999e+09, 1.47815184e+09, 1.46139931e+09, 1.44486898e+09,\n",
       "           1.42855747e+09, 1.41246149e+09, 1.39657777e+09, 1.38090313e+09,\n",
       "           1.36543441e+09, 1.35016852e+09, 1.33510244e+09, 1.32023316e+09,\n",
       "           1.30555775e+09, 1.29107333e+09, 1.27677706e+09, 1.26266613e+09,\n",
       "           1.24873781e+09, 1.23498939e+09, 1.22141823e+09, 1.20802170e+09,\n",
       "           1.19479724e+09, 1.18174232e+09, 1.16885446e+09, 1.15613121e+09,\n",
       "           1.14357018e+09, 1.13116899e+09, 1.11892533e+09, 1.10683690e+09,\n",
       "           1.09490145e+09, 1.08311677e+09, 1.07148069e+09, 1.05999105e+09,\n",
       "           1.04864576e+09, 1.03744274e+09, 1.02637994e+09, 1.01545537e+09,\n",
       "           1.00466705e+09, 9.94013022e+08, 9.83491390e+08, 9.73100267e+08,\n",
       "           9.62837802e+08, 9.52702173e+08, 9.42691585e+08, 9.32804276e+08,\n",
       "           9.23038507e+08, 9.13392570e+08, 9.03864783e+08, 8.94453490e+08,\n",
       "           8.85157061e+08, 8.75973893e+08, 8.66902405e+08, 8.57941046e+08,\n",
       "           8.49088283e+08, 8.40342612e+08, 8.31702551e+08, 8.23166639e+08,\n",
       "           8.14733440e+08, 8.06401539e+08, 7.98169544e+08, 7.90036084e+08,\n",
       "           7.81999809e+08, 7.74059390e+08, 7.66213517e+08, 7.58460903e+08,\n",
       "           7.50800278e+08, 7.43230393e+08, 7.35750018e+08, 7.28357940e+08,\n",
       "           7.21052968e+08, 7.13833924e+08, 7.06699653e+08, 6.99649015e+08,\n",
       "           6.92680887e+08, 6.85794163e+08, 6.78987755e+08, 6.72260589e+08,\n",
       "           6.65611611e+08, 6.59039778e+08, 6.52544066e+08, 6.46123465e+08,\n",
       "           6.39776981e+08, 6.33503634e+08, 6.27302458e+08, 6.21172502e+08,\n",
       "           6.15112830e+08, 6.09122519e+08, 6.03200659e+08, 5.97346355e+08,\n",
       "           5.91558723e+08, 5.85836894e+08, 5.80180010e+08, 5.74587228e+08,\n",
       "           5.69057715e+08, 5.63590652e+08, 5.58185230e+08, 5.52840652e+08,\n",
       "           5.47556135e+08, 5.42330905e+08, 5.37164201e+08, 5.32055270e+08,\n",
       "           5.27003372e+08, 5.22007779e+08, 5.17067771e+08, 5.12182639e+08,\n",
       "           5.07351685e+08, 5.02574221e+08, 4.97849567e+08, 4.93177055e+08,\n",
       "           4.88556025e+08, 4.83985827e+08, 4.79465820e+08, 4.74995372e+08,\n",
       "           4.70573862e+08, 4.66200674e+08, 4.61875204e+08, 4.57596854e+08,\n",
       "           4.53365036e+08, 4.49179171e+08, 4.45038686e+08, 4.40943017e+08,\n",
       "           4.36891608e+08, 4.32883911e+08, 4.28919385e+08, 4.24997497e+08,\n",
       "           4.21117722e+08, 4.17279541e+08, 4.13482442e+08, 4.09725923e+08,\n",
       "           4.06009484e+08, 4.02332637e+08, 3.98694897e+08, 3.95095787e+08,\n",
       "           3.91534838e+08, 3.88011586e+08, 3.84525572e+08, 3.81076345e+08,\n",
       "           3.77663460e+08, 3.74286479e+08, 3.70944968e+08, 3.67638500e+08,\n",
       "           3.64366652e+08, 3.61129011e+08, 3.57925165e+08, 3.54754710e+08,\n",
       "           3.51617247e+08, 3.48512382e+08, 3.45439727e+08, 3.42398898e+08,\n",
       "           3.39389517e+08, 3.36411212e+08, 3.33463614e+08, 3.30546360e+08,\n",
       "           3.27659091e+08, 3.24801455e+08, 3.21973103e+08, 3.19173689e+08,\n",
       "           3.16402875e+08, 3.13660326e+08, 3.10945710e+08, 3.08258701e+08,\n",
       "           3.05598977e+08, 3.02966221e+08, 3.00360118e+08, 2.97780359e+08,\n",
       "           2.95226639e+08, 2.92698656e+08, 2.90196112e+08, 2.87718714e+08,\n",
       "           2.85266171e+08, 2.82838198e+08, 2.80434513e+08, 2.78054836e+08,\n",
       "           2.75698892e+08, 2.73366410e+08, 2.71057122e+08, 2.68770763e+08,\n",
       "           2.66507071e+08, 2.64265789e+08, 2.62046663e+08, 2.59849440e+08,\n",
       "           2.57673874e+08, 2.55519718e+08, 2.53386731e+08, 2.51274675e+08,\n",
       "           2.49183314e+08, 2.47112414e+08, 2.45061746e+08, 2.43031084e+08,\n",
       "           2.41020203e+08, 2.39028883e+08, 2.37056904e+08, 2.35104051e+08,\n",
       "           2.33170112e+08, 2.31254876e+08, 2.29358135e+08, 2.27479684e+08,\n",
       "           2.25619322e+08, 2.23776847e+08, 2.21952063e+08, 2.20144775e+08,\n",
       "           2.18354789e+08, 2.16581917e+08, 2.14825970e+08, 2.13086762e+08,\n",
       "           2.11364111e+08, 2.09657835e+08, 2.07967756e+08, 2.06293697e+08,\n",
       "           2.04635484e+08, 2.02992945e+08, 2.01365910e+08, 1.99754210e+08,\n",
       "           1.98157680e+08, 1.96576156e+08, 1.95009475e+08, 1.93457479e+08,\n",
       "           1.91920008e+08, 1.90396907e+08, 1.88888022e+08, 1.87393200e+08,\n",
       "           1.85912290e+08, 1.84445145e+08, 1.82991617e+08, 1.81551561e+08,\n",
       "           1.80124834e+08, 1.78711293e+08, 1.77310800e+08, 1.75923215e+08,\n",
       "           1.74548403e+08, 1.73186227e+08, 1.71836556e+08, 1.70499256e+08,\n",
       "           1.69174198e+08, 1.67861253e+08, 1.66560294e+08, 1.65271195e+08,\n",
       "           1.63993832e+08, 1.62728082e+08, 1.61473824e+08, 1.60230939e+08,\n",
       "           1.58999308e+08, 1.57778813e+08, 1.56569339e+08, 1.55370772e+08,\n",
       "           1.54182999e+08, 1.53005908e+08, 1.51839389e+08, 1.50683333e+08,\n",
       "           1.49537632e+08, 1.48402179e+08, 1.47276869e+08, 1.46161599e+08,\n",
       "           1.45056265e+08, 1.43960765e+08, 1.42875000e+08, 1.41798869e+08,\n",
       "           1.40732274e+08, 1.39675119e+08, 1.38627307e+08, 1.37588744e+08,\n",
       "           1.36559336e+08, 1.35538990e+08, 1.34527614e+08, 1.33525119e+08,\n",
       "           1.32531413e+08, 1.31546409e+08, 1.30570020e+08, 1.29602158e+08,\n",
       "           1.28642738e+08, 1.27691676e+08, 1.26748887e+08, 1.25814290e+08,\n",
       "           1.24887802e+08, 1.23969343e+08, 1.23058832e+08, 1.22156191e+08,\n",
       "           1.21261341e+08, 1.20374206e+08, 1.19494708e+08, 1.18622773e+08,\n",
       "           1.17758325e+08, 1.16901290e+08, 1.16051597e+08, 1.15209171e+08,\n",
       "           1.14373943e+08, 1.13545840e+08, 1.12724795e+08, 1.11910736e+08,\n",
       "           1.11103596e+08, 1.10303308e+08, 1.09509805e+08, 1.08723020e+08,\n",
       "           1.07942888e+08, 1.07169344e+08, 1.06402325e+08, 1.05641767e+08,\n",
       "           1.04887608e+08, 1.04139786e+08, 1.03398240e+08, 1.02662909e+08,\n",
       "           1.01933733e+08, 1.01210653e+08, 1.00493610e+08, 9.97825476e+07,\n",
       "           9.90774072e+07, 9.83781323e+07, 9.76846669e+07, 9.69969556e+07,\n",
       "           9.63149435e+07, 9.56385762e+07, 9.49678002e+07, 9.43025623e+07,\n",
       "           9.36428098e+07, 9.29884910e+07, 9.23395542e+07, 9.16959487e+07,\n",
       "           9.10576240e+07, 9.04245305e+07, 8.97966187e+07, 8.91738400e+07,\n",
       "           8.85561462e+07, 8.79434895e+07, 8.73358227e+07, 8.67330991e+07,\n",
       "           8.61352724e+07, 8.55422970e+07, 8.49541276e+07, 8.43707194e+07,\n",
       "           8.37920281e+07, 8.32180099e+07, 8.26486214e+07, 8.20838196e+07,\n",
       "           8.15235622e+07, 8.09678070e+07, 8.04165126e+07, 7.98696376e+07,\n",
       "           7.93271415e+07, 7.87889838e+07, 7.82551248e+07, 7.77255249e+07,\n",
       "           7.72001451e+07, 7.66789467e+07, 7.61618914e+07, 7.56489415e+07,\n",
       "           7.51400594e+07, 7.46352080e+07, 7.41343507e+07, 7.36374510e+07,\n",
       "           7.31444732e+07, 7.26553815e+07, 7.21701408e+07, 7.16887161e+07,\n",
       "           7.12110731e+07, 7.07371775e+07, 7.02669956e+07, 6.98004938e+07,\n",
       "           6.93376391e+07, 6.88783987e+07, 6.84227401e+07, 6.79706312e+07,\n",
       "           6.75220403e+07, 6.70769358e+07, 6.66352866e+07, 6.61970618e+07,\n",
       "           6.57622310e+07, 6.53307639e+07, 6.49026305e+07, 6.44778014e+07,\n",
       "           6.40562470e+07, 6.36379385e+07, 6.32228471e+07, 6.28109443e+07,\n",
       "           6.24022020e+07, 6.19965922e+07, 6.15940875e+07, 6.11946604e+07,\n",
       "           6.07982839e+07, 6.04049312e+07, 6.00145757e+07, 5.96271913e+07,\n",
       "           5.92427519e+07, 5.88612317e+07, 5.84826054e+07, 5.81068475e+07,\n",
       "           5.77339332e+07, 5.73638377e+07, 5.69965365e+07, 5.66320054e+07,\n",
       "           5.62702202e+07, 5.59111573e+07, 5.55547930e+07, 5.52011041e+07,\n",
       "           5.48500675e+07, 5.45016602e+07, 5.41558596e+07, 5.38126434e+07,\n",
       "           5.34719892e+07, 5.31338751e+07, 5.27982793e+07, 5.24651803e+07,\n",
       "           5.21345566e+07, 5.18063872e+07, 5.14806510e+07, 5.11573274e+07,\n",
       "           5.08363957e+07, 5.05178356e+07, 5.02016270e+07, 4.98877499e+07,\n",
       "           4.95761846e+07, 4.92669113e+07, 4.89599109e+07, 4.86551639e+07,\n",
       "           4.83526515e+07, 4.80523548e+07, 4.77542550e+07, 4.74583338e+07,\n",
       "           4.71645728e+07, 4.68729539e+07, 4.65834590e+07, 4.62960705e+07,\n",
       "           4.60107707e+07, 4.57275421e+07, 4.54463674e+07, 4.51672295e+07,\n",
       "           4.48901114e+07, 4.46149964e+07, 4.43418677e+07, 4.40707089e+07,\n",
       "           4.38015036e+07, 4.35342356e+07, 4.32688890e+07, 4.30054477e+07,\n",
       "           4.27438961e+07, 4.24842187e+07, 4.22263998e+07, 4.19704243e+07,\n",
       "           4.17162769e+07, 4.14639427e+07, 4.12134068e+07, 4.09646544e+07,\n",
       "           4.07176709e+07, 4.04724419e+07, 4.02289530e+07, 3.99871901e+07,\n",
       "           3.97471389e+07, 3.95087857e+07, 3.92721166e+07, 3.90371178e+07,\n",
       "           3.88037759e+07, 3.85720774e+07, 3.83420089e+07, 3.81135574e+07,\n",
       "           3.78867097e+07, 3.76614528e+07, 3.74377740e+07, 3.72156604e+07,\n",
       "           3.69950996e+07, 3.67760790e+07, 3.65585863e+07, 3.63426091e+07,\n",
       "           3.61281354e+07, 3.59151531e+07, 3.57036502e+07, 3.54936150e+07,\n",
       "           3.52850357e+07, 3.50779007e+07, 3.48721986e+07, 3.46679178e+07,\n",
       "           3.44650472e+07, 3.42635754e+07, 3.40634915e+07, 3.38647844e+07,\n",
       "           3.36674432e+07, 3.34714571e+07, 3.32768154e+07, 3.30835075e+07,\n",
       "           3.28915228e+07, 3.27008511e+07, 3.25114818e+07, 3.23234049e+07,\n",
       "           3.21366100e+07, 3.19510873e+07, 3.17668267e+07, 3.15838183e+07,\n",
       "           3.14020524e+07, 3.12215192e+07, 3.10422092e+07, 3.08641127e+07,\n",
       "           3.06872204e+07, 3.05115228e+07, 3.03370107e+07, 3.01636749e+07,\n",
       "           2.99915063e+07, 2.98204957e+07, 2.96506344e+07, 2.94819133e+07,\n",
       "           2.93143236e+07, 2.91478567e+07, 2.89825038e+07, 2.88182565e+07,\n",
       "           2.86551061e+07, 2.84930443e+07, 2.83320627e+07, 2.81721530e+07,\n",
       "           2.80133071e+07, 2.78555166e+07, 2.76987737e+07, 2.75430703e+07,\n",
       "           2.73883984e+07, 2.72347502e+07, 2.70821179e+07, 2.69304938e+07,\n",
       "           2.67798702e+07, 2.66302394e+07, 2.64815941e+07, 2.63339267e+07,\n",
       "           2.61872297e+07, 2.60414960e+07, 2.58967181e+07, 2.57528889e+07,\n",
       "           2.56100012e+07, 2.54680479e+07, 2.53270221e+07, 2.51869166e+07,\n",
       "           2.50477247e+07, 2.49094394e+07, 2.47720540e+07, 2.46355617e+07,\n",
       "           2.44999558e+07, 2.43652298e+07, 2.42313770e+07, 2.40983909e+07,\n",
       "           2.39662651e+07, 2.38349932e+07, 2.37045687e+07, 2.35749855e+07,\n",
       "           2.34462373e+07, 2.33183179e+07, 2.31912211e+07, 2.30649408e+07,\n",
       "           2.29394711e+07, 2.28148059e+07, 2.26909393e+07, 2.25678654e+07,\n",
       "           2.24455784e+07, 2.23240724e+07, 2.22033418e+07, 2.20833809e+07,\n",
       "           2.19641839e+07, 2.18457453e+07, 2.17280596e+07, 2.16111212e+07,\n",
       "           2.14949246e+07, 2.13794646e+07, 2.12647356e+07, 2.11507323e+07,\n",
       "           2.10374496e+07, 2.09248820e+07, 2.08130245e+07, 2.07018719e+07,\n",
       "           2.05914191e+07, 2.04816609e+07, 2.03725924e+07, 2.02642086e+07,\n",
       "           2.01565045e+07, 2.00494753e+07, 1.99431160e+07, 1.98374218e+07,\n",
       "           1.97323880e+07, 1.96280098e+07, 1.95242825e+07, 1.94212014e+07,\n",
       "           1.93187618e+07, 1.92169593e+07, 1.91157892e+07, 1.90152470e+07,\n",
       "           1.89153282e+07] Hz Jy>"
      ]
     },
     "execution_count": 48,
     "metadata": {},
     "output_type": "execute_result"
    }
   ],
   "source": [
    "LIR = SED*dnu.to(u.Hz)*u.Jansky\n",
    "LIR"
   ]
  },
  {
   "cell_type": "code",
   "execution_count": 49,
   "metadata": {},
   "outputs": [
    {
     "data": {
      "text/latex": [
       "$1.2579782 \\times 10^{38} \\; \\mathrm{\\frac{J}{s}}$"
      ],
      "text/plain": [
       "<Quantity 1.25797822e+38 J / s>"
      ]
     },
     "execution_count": 49,
     "metadata": {},
     "output_type": "execute_result"
    }
   ],
   "source": [
    "(np.sum(LIR)*dist_factor).si"
   ]
  },
  {
   "cell_type": "markdown",
   "metadata": {},
   "source": [
    "## Functional implementation"
   ]
  },
  {
   "cell_type": "code",
   "execution_count": 52,
   "metadata": {},
   "outputs": [],
   "source": [
    "from astropy.cosmology import FlatLambdaCDM\n",
    "cosmo = FlatLambdaCDM(H0=70,Om0=0.3)"
   ]
  },
  {
   "cell_type": "code",
   "execution_count": 55,
   "metadata": {},
   "outputs": [
    {
     "data": {
      "text/plain": [
       "140.40840058831972"
      ]
     },
     "execution_count": 55,
     "metadata": {},
     "output_type": "execute_result"
    }
   ],
   "source": [
    "cosmo.luminosity_distance(0.032).value"
   ]
  },
  {
   "cell_type": "code",
   "execution_count": 124,
   "metadata": {},
   "outputs": [],
   "source": [
    "def HerschelLIR(z_obj,S1,S2,S3,S4,S5,S6,S7,S8,S9,S10):\n",
    "    \n",
    "    dlist=np.array([z_obj,S1,S2,S3,S4,S5,S6,S7,S8,S9,S10])\n",
    "    if (~np.isfinite(dlist)).any() | (dlist<=0).any():\n",
    "        return np.nan\n",
    "    else:\n",
    "            \n",
    "        x_data = np.array([8,12,24,25,60,70,100,160,450,850])\n",
    "        y_data = np.array([S1,S2,S3,S4,S5,S6,S7,S8,S9,S10])\n",
    "        popt, pcov = curve_fit(GreybodyPL,x_data/(1+z_obj),y_data,p0=[30,10**4])\n",
    "        print(popt)    \n",
    "        dist_factor = 4*np.pi*(cosmo.luminosity_distance(z_obj).to(u.meter).value)**2 #distance in Mpc\n",
    "        print(dist_factor)\n",
    "        integral, abserr = quad(lambda x: GreybodyPL(x,popt[0],popt[1])/(x**2),8,1000) # c/lambda^2 factor gives flux per unit of wavelength\n",
    "        print(integral)\n",
    "        LIR = integral*3*(10**-12)*dist_factor\n",
    "        print(LIR)\n",
    "        LIR_LSun = LIR/(3.828*10**26)\n",
    "        print(LIR_LSun)\n",
    "    \n",
    "        return np.log10(LIR_LSun)"
   ]
  },
  {
   "cell_type": "code",
   "execution_count": 153,
   "metadata": {},
   "outputs": [],
   "source": [
    "def HerschelLIR(z_obj,S1,S2,S3,S4,S5):\n",
    "    \n",
    "    dlist=np.array([z_obj,S1,S2,S3,S4,S5])\n",
    "    if (~np.isfinite(dlist)).any():\n",
    "        return np.nan\n",
    "    else:\n",
    "            \n",
    "        x_data = np.array([100,160,250,350,500])\n",
    "        y_data = np.array([S1,S2,S3,S4,S5])*10**-3 # data in mJy\n",
    "        try:\n",
    "            popt, pcov = curve_fit(GreybodyPL,x_data/(1+z_obj),y_data,p0=[30,10**4])\n",
    "        except RuntimeError:\n",
    "            return np.nan\n",
    "        #print(popt)    \n",
    "        dist_factor = 4*np.pi*(cosmo.luminosity_distance(z_obj).to(u.meter).value)**2 #distance in Mpc\n",
    "        #print(dist_factor)\n",
    "        integral, abserr = quad(lambda x: GreybodyPL(x,popt[0],popt[1])/(x**2),8,1000) # c/lambda^2 factor gives flux per unit of wavelength\n",
    "        #print(integral)\n",
    "        LIR = integral*3*(10**-12)*dist_factor\n",
    "        #print(LIR)\n",
    "        LIR_LSun = LIR/(3.828*10**26)\n",
    "        #print(np.log10(LIR_LSun))\n",
    "    \n",
    "        return np.log10(LIR_LSun)"
   ]
  },
  {
   "cell_type": "code",
   "execution_count": 125,
   "metadata": {},
   "outputs": [
    {
     "name": "stdout",
     "output_type": "stream",
     "text": [
      "[4.48673918e+01 2.78508589e+08]\n",
      "2.3588326962680546e+50\n",
      "0.20934043661807297\n",
      "1.4813971996372226e+38\n",
      "386989864064.06024\n"
     ]
    },
    {
     "data": {
      "text/plain": [
       "11.587699590241922"
      ]
     },
     "execution_count": 125,
     "metadata": {},
     "output_type": "execute_result"
    }
   ],
   "source": [
    "#redshift = 0.032\n",
    "#xdata = np.array([8,12,24,25,60,70,100,160,450,850])\n",
    "#ydata = np.array([0.149,0.230,1.160,1.880,8.070,7.823,11.18,8.717,0.523,0.072])\n",
    "HerschelLIR(0.032,0.149,0.230,1.160,1.880,8.070,7.823,11.18,8.717,0.523,0.072)"
   ]
  },
  {
   "cell_type": "code",
   "execution_count": 129,
   "metadata": {},
   "outputs": [
    {
     "name": "stdout",
     "output_type": "stream",
     "text": [
      "[2.53196980e+01 3.15273428e+05]\n",
      "5.64542246410391e+52\n",
      "2.0262951016480817e-05\n",
      "3.4317875657243387e+36\n",
      "8964962292.905796\n"
     ]
    },
    {
     "name": "stderr",
     "output_type": "stream",
     "text": [
      "/home/bruno/anaconda3/lib/python3.7/site-packages/ipykernel_launcher.py:10: RuntimeWarning: invalid value encountered in double_scalars\n",
      "  # Remove the CWD from sys.path while we load stuff.\n"
     ]
    },
    {
     "data": {
      "text/plain": [
       "9.952548467237033"
      ]
     },
     "execution_count": 129,
     "metadata": {},
     "output_type": "execute_result"
    }
   ],
   "source": [
    "HerschelLIR(0.4,0.5,2.0,0.6,1.9,1.1)"
   ]
  },
  {
   "cell_type": "code",
   "execution_count": 130,
   "metadata": {},
   "outputs": [
    {
     "name": "stdout",
     "output_type": "stream",
     "text": [
      "[2.12131121e+01 6.65613603e+05]\n",
      "8.202085932069155e+53\n",
      "1.9148981554375e-05\n",
      "4.711847766617728e+37\n",
      "123089022116.45058\n"
     ]
    },
    {
     "name": "stderr",
     "output_type": "stream",
     "text": [
      "/home/bruno/anaconda3/lib/python3.7/site-packages/ipykernel_launcher.py:10: RuntimeWarning: invalid value encountered in double_scalars\n",
      "  # Remove the CWD from sys.path while we load stuff.\n"
     ]
    },
    {
     "data": {
      "text/plain": [
       "11.090219321437843"
      ]
     },
     "execution_count": 130,
     "metadata": {},
     "output_type": "execute_result"
    }
   ],
   "source": [
    "HerschelLIR(1.2,0.2,1.0,0.7,2.5,1.4)"
   ]
  },
  {
   "cell_type": "code",
   "execution_count": 132,
   "metadata": {},
   "outputs": [
    {
     "name": "stdout",
     "output_type": "stream",
     "text": [
      "[2.01104961e+01 8.27377863e+05]\n",
      "5.4740815080912605e+54\n",
      "1.8593591216105447e-05\n",
      "3.0534850153527272e+38\n",
      "797671111638.6434\n"
     ]
    },
    {
     "name": "stderr",
     "output_type": "stream",
     "text": [
      "/home/bruno/anaconda3/lib/python3.7/site-packages/ipykernel_launcher.py:10: RuntimeWarning: invalid value encountered in double_scalars\n",
      "  # Remove the CWD from sys.path while we load stuff.\n"
     ]
    },
    {
     "data": {
      "text/plain": [
       "11.901823863979136"
      ]
     },
     "execution_count": 132,
     "metadata": {},
     "output_type": "execute_result"
    }
   ],
   "source": [
    "HerschelLIR(2.6,-0.2,0.4,-1.2,1.4,1.7)"
   ]
  },
  {
   "cell_type": "markdown",
   "metadata": {},
   "source": [
    "## Applying to catalogue data"
   ]
  },
  {
   "cell_type": "code",
   "execution_count": 134,
   "metadata": {},
   "outputs": [],
   "source": [
    "columns = ['ID','Z_BEST','Mass_median','F_PACS_100','F_PACS_160','F_SPIRE_250','F_SPIRE_350','F_SPIRE_500']\n",
    "\n",
    "# Reading the data:\n",
    "bootes = pd.read_csv('/home/bruno/Documents/COSMOamautas/Data/bootes_catalogue_mass_median_107.csv',usecols=columns)"
   ]
  },
  {
   "cell_type": "code",
   "execution_count": 154,
   "metadata": {},
   "outputs": [],
   "source": [
    "VHerschel = np.vectorize(HerschelLIR)"
   ]
  },
  {
   "cell_type": "code",
   "execution_count": 155,
   "metadata": {},
   "outputs": [
    {
     "name": "stderr",
     "output_type": "stream",
     "text": [
      "/home/bruno/anaconda3/lib/python3.7/site-packages/ipykernel_launcher.py:10: RuntimeWarning: invalid value encountered in double_scalars\n",
      "  # Remove the CWD from sys.path while we load stuff.\n",
      "/home/bruno/anaconda3/lib/python3.7/site-packages/ipykernel_launcher.py:24: RuntimeWarning: divide by zero encountered in log10\n",
      "/home/bruno/anaconda3/lib/python3.7/site-packages/ipykernel_launcher.py:11: RuntimeWarning: overflow encountered in exp\n",
      "  # This is added back by InteractiveShellApp.init_path()\n"
     ]
    }
   ],
   "source": [
    "bootes['LIR_H'] = VHerschel(bootes['Z_BEST'],bootes['F_PACS_100'],bootes['F_PACS_160'],bootes['F_SPIRE_250'],bootes['F_SPIRE_350'],bootes['F_SPIRE_500'])"
   ]
  },
  {
   "cell_type": "code",
   "execution_count": 164,
   "metadata": {},
   "outputs": [],
   "source": [
    "bootes['SFR_H'] = np.power(10,bootes['LIR_H'])/(1.7*5.8*10**9) # Kennicutt 1998 + Man 2016"
   ]
  },
  {
   "cell_type": "code",
   "execution_count": 167,
   "metadata": {},
   "outputs": [
    {
     "data": {
      "text/plain": [
       "160.73967469179624"
      ]
     },
     "execution_count": 167,
     "metadata": {},
     "output_type": "execute_result"
    }
   ],
   "source": [
    "np.power(10,12.2)/(1.7*5.8*10**9)"
   ]
  },
  {
   "cell_type": "code",
   "execution_count": 165,
   "metadata": {},
   "outputs": [
    {
     "data": {
      "text/html": [
       "<div>\n",
       "<style scoped>\n",
       "    .dataframe tbody tr th:only-of-type {\n",
       "        vertical-align: middle;\n",
       "    }\n",
       "\n",
       "    .dataframe tbody tr th {\n",
       "        vertical-align: top;\n",
       "    }\n",
       "\n",
       "    .dataframe thead th {\n",
       "        text-align: right;\n",
       "    }\n",
       "</style>\n",
       "<table border=\"1\" class=\"dataframe\">\n",
       "  <thead>\n",
       "    <tr style=\"text-align: right;\">\n",
       "      <th></th>\n",
       "      <th>ID</th>\n",
       "      <th>F_PACS_100</th>\n",
       "      <th>F_PACS_160</th>\n",
       "      <th>F_SPIRE_250</th>\n",
       "      <th>F_SPIRE_350</th>\n",
       "      <th>F_SPIRE_500</th>\n",
       "      <th>Z_BEST</th>\n",
       "      <th>Mass_median</th>\n",
       "      <th>LIR_H</th>\n",
       "      <th>SFR_H</th>\n",
       "    </tr>\n",
       "  </thead>\n",
       "  <tbody>\n",
       "    <tr>\n",
       "      <th>1432</th>\n",
       "      <td>60984</td>\n",
       "      <td>511.830630</td>\n",
       "      <td>508.223570</td>\n",
       "      <td>4.943668</td>\n",
       "      <td>17.300995</td>\n",
       "      <td>9.562061</td>\n",
       "      <td>0.293100</td>\n",
       "      <td>11.257261</td>\n",
       "      <td>12.510486</td>\n",
       "      <td>328.556025</td>\n",
       "    </tr>\n",
       "    <tr>\n",
       "      <th>1474</th>\n",
       "      <td>62726</td>\n",
       "      <td>500.827450</td>\n",
       "      <td>491.938660</td>\n",
       "      <td>0.504442</td>\n",
       "      <td>2.691884</td>\n",
       "      <td>4.081716</td>\n",
       "      <td>0.981400</td>\n",
       "      <td>11.001948</td>\n",
       "      <td>14.076664</td>\n",
       "      <td>12100.042841</td>\n",
       "    </tr>\n",
       "    <tr>\n",
       "      <th>1477</th>\n",
       "      <td>62875</td>\n",
       "      <td>500.430150</td>\n",
       "      <td>501.297030</td>\n",
       "      <td>0.676827</td>\n",
       "      <td>2.933122</td>\n",
       "      <td>5.112972</td>\n",
       "      <td>0.600700</td>\n",
       "      <td>10.778447</td>\n",
       "      <td>13.393221</td>\n",
       "      <td>2508.094409</td>\n",
       "    </tr>\n",
       "    <tr>\n",
       "      <th>1494</th>\n",
       "      <td>63252</td>\n",
       "      <td>501.200260</td>\n",
       "      <td>509.626300</td>\n",
       "      <td>2.219696</td>\n",
       "      <td>5.098056</td>\n",
       "      <td>4.063933</td>\n",
       "      <td>1.361700</td>\n",
       "      <td>10.877470</td>\n",
       "      <td>14.516253</td>\n",
       "      <td>33294.745673</td>\n",
       "    </tr>\n",
       "    <tr>\n",
       "      <th>1508</th>\n",
       "      <td>63670</td>\n",
       "      <td>511.317930</td>\n",
       "      <td>509.246030</td>\n",
       "      <td>0.410458</td>\n",
       "      <td>2.954091</td>\n",
       "      <td>4.828530</td>\n",
       "      <td>0.479200</td>\n",
       "      <td>10.746871</td>\n",
       "      <td>13.113069</td>\n",
       "      <td>1315.806856</td>\n",
       "    </tr>\n",
       "    <tr>\n",
       "      <th>...</th>\n",
       "      <td>...</td>\n",
       "      <td>...</td>\n",
       "      <td>...</td>\n",
       "      <td>...</td>\n",
       "      <td>...</td>\n",
       "      <td>...</td>\n",
       "      <td>...</td>\n",
       "      <td>...</td>\n",
       "      <td>...</td>\n",
       "      <td>...</td>\n",
       "    </tr>\n",
       "    <tr>\n",
       "      <th>65166</th>\n",
       "      <td>2210525</td>\n",
       "      <td>9.694561</td>\n",
       "      <td>55.419456</td>\n",
       "      <td>6.394163</td>\n",
       "      <td>1.647151</td>\n",
       "      <td>4.980718</td>\n",
       "      <td>0.508900</td>\n",
       "      <td>10.903540</td>\n",
       "      <td>11.643813</td>\n",
       "      <td>44.661763</td>\n",
       "    </tr>\n",
       "    <tr>\n",
       "      <th>65172</th>\n",
       "      <td>2211525</td>\n",
       "      <td>36.999607</td>\n",
       "      <td>14.398780</td>\n",
       "      <td>2.630797</td>\n",
       "      <td>3.103710</td>\n",
       "      <td>2.361796</td>\n",
       "      <td>1.035300</td>\n",
       "      <td>10.717180</td>\n",
       "      <td>NaN</td>\n",
       "      <td>NaN</td>\n",
       "    </tr>\n",
       "    <tr>\n",
       "      <th>65175</th>\n",
       "      <td>2212440</td>\n",
       "      <td>7.821134</td>\n",
       "      <td>92.687030</td>\n",
       "      <td>38.409706</td>\n",
       "      <td>9.416349</td>\n",
       "      <td>2.651259</td>\n",
       "      <td>0.216688</td>\n",
       "      <td>10.856723</td>\n",
       "      <td>10.909274</td>\n",
       "      <td>8.229952</td>\n",
       "    </tr>\n",
       "    <tr>\n",
       "      <th>65177</th>\n",
       "      <td>2212867</td>\n",
       "      <td>7.430001</td>\n",
       "      <td>2.247587</td>\n",
       "      <td>11.744390</td>\n",
       "      <td>8.180760</td>\n",
       "      <td>2.305962</td>\n",
       "      <td>0.499160</td>\n",
       "      <td>10.846257</td>\n",
       "      <td>10.854518</td>\n",
       "      <td>7.255067</td>\n",
       "    </tr>\n",
       "    <tr>\n",
       "      <th>65183</th>\n",
       "      <td>2214096</td>\n",
       "      <td>142.244660</td>\n",
       "      <td>217.379350</td>\n",
       "      <td>142.787580</td>\n",
       "      <td>64.498170</td>\n",
       "      <td>15.266289</td>\n",
       "      <td>0.160181</td>\n",
       "      <td>10.764185</td>\n",
       "      <td>11.188727</td>\n",
       "      <td>15.662113</td>\n",
       "    </tr>\n",
       "  </tbody>\n",
       "</table>\n",
       "<p>33215 rows × 10 columns</p>\n",
       "</div>"
      ],
      "text/plain": [
       "            ID  F_PACS_100  F_PACS_160  F_SPIRE_250  F_SPIRE_350  F_SPIRE_500  \\\n",
       "1432     60984  511.830630  508.223570     4.943668    17.300995     9.562061   \n",
       "1474     62726  500.827450  491.938660     0.504442     2.691884     4.081716   \n",
       "1477     62875  500.430150  501.297030     0.676827     2.933122     5.112972   \n",
       "1494     63252  501.200260  509.626300     2.219696     5.098056     4.063933   \n",
       "1508     63670  511.317930  509.246030     0.410458     2.954091     4.828530   \n",
       "...        ...         ...         ...          ...          ...          ...   \n",
       "65166  2210525    9.694561   55.419456     6.394163     1.647151     4.980718   \n",
       "65172  2211525   36.999607   14.398780     2.630797     3.103710     2.361796   \n",
       "65175  2212440    7.821134   92.687030    38.409706     9.416349     2.651259   \n",
       "65177  2212867    7.430001    2.247587    11.744390     8.180760     2.305962   \n",
       "65183  2214096  142.244660  217.379350   142.787580    64.498170    15.266289   \n",
       "\n",
       "         Z_BEST  Mass_median      LIR_H         SFR_H  \n",
       "1432   0.293100    11.257261  12.510486    328.556025  \n",
       "1474   0.981400    11.001948  14.076664  12100.042841  \n",
       "1477   0.600700    10.778447  13.393221   2508.094409  \n",
       "1494   1.361700    10.877470  14.516253  33294.745673  \n",
       "1508   0.479200    10.746871  13.113069   1315.806856  \n",
       "...         ...          ...        ...           ...  \n",
       "65166  0.508900    10.903540  11.643813     44.661763  \n",
       "65172  1.035300    10.717180        NaN           NaN  \n",
       "65175  0.216688    10.856723  10.909274      8.229952  \n",
       "65177  0.499160    10.846257  10.854518      7.255067  \n",
       "65183  0.160181    10.764185  11.188727     15.662113  \n",
       "\n",
       "[33215 rows x 10 columns]"
      ]
     },
     "execution_count": 165,
     "metadata": {},
     "output_type": "execute_result"
    }
   ],
   "source": [
    "bootes[bootes['F_PACS_100']>0]"
   ]
  },
  {
   "cell_type": "markdown",
   "metadata": {},
   "source": [
    "# Legacy functions (for testing only)"
   ]
  },
  {
   "cell_type": "code",
   "execution_count": 3,
   "metadata": {},
   "outputs": [],
   "source": [
    "K = const.k_B.cgs.value\n",
    "c = const.c.cgs.value\n",
    "h = const.h.cgs.value\n",
    "\n",
    "const.h.value*const.c.value/const.k_B.value\n",
    "\n",
    "def Greybodycgs(x,T,Nbb):\n",
    "    '''Flux density in Jy at wavelength x in micron\n",
    "    given by an optically thick grey-body model\n",
    "    T is the temperature of the grey body and \n",
    "    Nbb is a normalization parameter'''\n",
    "    beta = 1.5\n",
    "    x_cgs = x/(10**4)\n",
    "    flux = Nbb*((1-np.exp(-(200/x)**beta))*(c/x_cgs)**3)/(np.exp(h*c/(x_cgs*K*T))-1)\n",
    "    return flux"
   ]
  },
  {
   "cell_type": "code",
   "execution_count": 32,
   "metadata": {},
   "outputs": [],
   "source": [
    "def GreybodyPL1(x,T,Nbb):\n",
    "    '''Flux density in Jy at wavelength x in micron\n",
    "    given by an optically thick grey-body model\n",
    "    T is the temperature of the grey body and \n",
    "    Nbb is a normalization parameter'''\n",
    "    alpha = 2.0\n",
    "    beta = 1.5\n",
    "    Lc = ((26.68 + alpha*6.246)**-2 + (1.905*(10**-4) + alpha*7.243*(10**-5))*T)**-1\n",
    "    Npl = Nbb*((1-np.exp(-(200/Lc)**beta))*(Lc**-3))/(np.exp(14387.8/(Lc*T))-1)\n",
    "    flux = Nbb*((1-np.exp(-(200/x)**beta))*(x**-3))/ (np.exp(14387.8/(x*T))-1) + Npl*(x**alpha)*np.exp(-(x/Lc)**2)\n",
    "    return flux"
   ]
  },
  {
   "cell_type": "code",
   "execution_count": 14,
   "metadata": {},
   "outputs": [
    {
     "name": "stdout",
     "output_type": "stream",
     "text": [
      "[4.36766587e+01 3.08616879e+08]\n"
     ]
    }
   ],
   "source": [
    "data0 = pd.read_csv('/home/bruno/Documents/COSMOamautas/Data/Dataset0.csv')\n",
    "data1 = pd.read_csv('/home/bruno/Documents/COSMOamautas/Data/Dataset1.csv')\n",
    "\n",
    "popt, pcov = curve_fit(Greybody,data0['Rest_wavelength_um'],data0['Flux_density_Jy'],p0=[30,10**4])#bounds=([15,10**(-35)], [100, 10**(-30)]))\n",
    "print(popt)"
   ]
  },
  {
   "cell_type": "code",
   "execution_count": 20,
   "metadata": {
    "scrolled": false
   },
   "outputs": [
    {
     "data": {
      "image/png": "[encoded data removed]",
      "text/plain": [
       "<Figure size 432x432 with 1 Axes>"
      ]
     },
     "metadata": {
      "needs_background": "light"
     },
     "output_type": "display_data"
    }
   ],
   "source": [
    "fig,axs = plt.subplots(figsize=(6,6))\n",
    "array = np.linspace(50,1000,1000)\n",
    "axs.scatter(data0['Rest_wavelength_um'],data0['Flux_density_Jy'],c='b',label='data')\n",
    "axs.plot(array,Greybody(array,popt[0],popt[1]),c='r',label='fit')\n",
    "axs.scatter(data0['Rest_wavelength_um'],Greybody(data0['Rest_wavelength_um'],31.2,10**8),c='g',label='fit')\n",
    "axs.set_xscale('log')\n",
    "axs.set_yscale('log')\n",
    "axs.legend(numpoints=1,loc='best')\n",
    "plt.show()"
   ]
  },
  {
   "cell_type": "code",
   "execution_count": 12,
   "metadata": {},
   "outputs": [],
   "source": [
    "def GreybodyLambda(x,T,Nbb):\n",
    "    '''Flux density in Jy/um^2 at wavelength x in micron\n",
    "    given by an optically thick grey-body model\n",
    "    T is the temperature of the grey body and\n",
    "    Nbb is a normalization parameter'''\n",
    "    beta = 1.5\n",
    "    flux = Nbb*((1-np.exp(-(200/x)**beta))*(x**-5))/(np.exp(14387.8/(x*T))-1)\n",
    "    return flux"
   ]
  },
  {
   "cell_type": "code",
   "execution_count": 13,
   "metadata": {},
   "outputs": [
    {
     "data": {
      "text/plain": [
       "0.14967179909602857"
      ]
     },
     "execution_count": 13,
     "metadata": {},
     "output_type": "execute_result"
    }
   ],
   "source": [
    "i2, abserr2 = quad(lambda x: GreybodyLambda(x,popt1[0],popt1[1]),8,1000)\n",
    "#np.log10(3*(10**-12)*(i2*4*np.pi*(127.7*const.pc.value)**2))\n",
    "i2"
   ]
  },
  {
   "cell_type": "code",
   "execution_count": 18,
   "metadata": {},
   "outputs": [
    {
     "data": {
      "text/plain": [
       "11.359582053630124"
      ]
     },
     "execution_count": 18,
     "metadata": {},
     "output_type": "execute_result"
    }
   ],
   "source": [
    "np.log10(3*(10**8)*(10**-26)*(10**6)*i2*factor/const.L_sun.value)"
   ]
  },
  {
   "cell_type": "markdown",
   "metadata": {},
   "source": [
    "## Schreiber 2017 SED templates"
   ]
  },
  {
   "cell_type": "code",
   "execution_count": 23,
   "metadata": {},
   "outputs": [],
   "source": [
    "#from astropy.io import fits\n",
    "from astropy.table import Table\n",
    "import itertools"
   ]
  },
  {
   "cell_type": "code",
   "execution_count": 24,
   "metadata": {},
   "outputs": [],
   "source": [
    "dusttable = Table.read('/home/bruno/Documents/COSMOamautas/Data/s17_dust.fits')"
   ]
  },
  {
   "cell_type": "code",
   "execution_count": 55,
   "metadata": {},
   "outputs": [
    {
     "data": {
      "text/html": [
       "<i>Table length=1</i>\n",
       "<table id=\"table140574572221072\" class=\"table-striped table-bordered table-condensed\">\n",
       "<thead><tr><th>LAM [250,721]</th><th>SED [250,721]</th><th>UMIN [250]</th><th>UMEAN [250]</th><th>LIR [250]</th><th>LFIR [250]</th><th>L8 [250]</th><th>TDUST [250]</th><th>TDUST_LW [250]</th><th>MASS_FRAC</th></tr></thead>\n",
       "<thead><tr><th>float64</th><th>float64</th><th>float64</th><th>float64</th><th>float64</th><th>float64</th><th>float64</th><th>float64</th><th>float64</th><th>float64</th></tr></thead>\n",
       "<tr><td>0.09877818422634621 .. 30000.000000000007</td><td>1.4424948503169463e-20 .. 3.64432208194104e-06</td><td>0.09999999999999998 .. 5000.0000000000055</td><td>0.26451371122875306 .. 12747.143156329044</td><td>50.76438621300392 .. 2403238.415655981</td><td>13.890889805991021 .. 348282.02713820856</td><td>1.7682513945842622 .. 250347.65146953752</td><td>14.307937881038514 .. 101.93537285161814</td><td>15.31383609466156 .. 109.1880022550492</td><td>0.97715</td></tr>\n",
       "</table>"
      ],
      "text/plain": [
       "<Table length=1>\n",
       "              LAM [250,721]               ... MASS_FRAC\n",
       "                 float64                  ...  float64 \n",
       "----------------------------------------- ... ---------\n",
       "0.09877818422634621 .. 30000.000000000007 ...   0.97715"
      ]
     },
     "execution_count": 55,
     "metadata": {},
     "output_type": "execute_result"
    }
   ],
   "source": [
    "dusttable"
   ]
  },
  {
   "cell_type": "code",
   "execution_count": 25,
   "metadata": {},
   "outputs": [],
   "source": [
    "Dwl, DnuLnu = dusttable['LAM'],dusttable['SED']#micron, Lsun\n",
    "Tdust = np.array(dusttable['TDUST'])[0]\n",
    "fracPAH = np.arange(0.25, 6.25, 0.25)/100\n",
    "idxs=[np.arange(len(Tdust)), np.arange(len(fracPAH))]"
   ]
  },
  {
   "cell_type": "code",
   "execution_count": 54,
   "metadata": {
    "scrolled": false
   },
   "outputs": [
    {
     "data": {
      "image/png": "[encoded data removed]",
      "text/plain": [
       "<Figure size 432x432 with 1 Axes>"
      ]
     },
     "metadata": {
      "needs_background": "light"
     },
     "output_type": "display_data"
    }
   ],
   "source": [
    "fig,axs = plt.subplots(figsize=(6,6))\n",
    "axs.plot(Dwl[0][0],DnuLnu[0][0],label='SED1')\n",
    "axs.legend(numpoints=1,loc='best')\n",
    "axs.set_xlim(xmin=0,xmax=1000)\n",
    "plt.show()"
   ]
  },
  {
   "cell_type": "code",
   "execution_count": 61,
   "metadata": {},
   "outputs": [
    {
     "data": {
      "text/plain": [
       "2268.770037222541"
      ]
     },
     "execution_count": 61,
     "metadata": {},
     "output_type": "execute_result"
    }
   ],
   "source": [
    "np.sum(DnuLnu[0][0][(Dwl[0][0]>8)&(Dwl[0][0]<1000)])"
   ]
  },
  {
   "cell_type": "code",
   "execution_count": 37,
   "metadata": {},
   "outputs": [],
   "source": [
    "Dnu = (Dwl[0] * u.micron).to(u.Hz, equivalencies=u.spectral())"
   ]
  },
  {
   "cell_type": "code",
   "execution_count": 84,
   "metadata": {
    "scrolled": false
   },
   "outputs": [
    {
     "data": {
      "image/png": "[encoded data removed]",
      "text/plain": [
       "<Figure size 432x432 with 1 Axes>"
      ]
     },
     "metadata": {
      "needs_background": "light"
     },
     "output_type": "display_data"
    }
   ],
   "source": [
    "fig,axs = plt.subplots(figsize=(6,6))\n",
    "#axs.plot(np.arange(307),Dwl[0][0][(Dwl[0][0]>8)&(Dwl[0][0]<1000)],label='SED1')\n",
    "axs.scatter(np.arange(721),Dwl[0][0],label='SED1',s=0.1)\n",
    "axs.legend(numpoints=1,loc='best')\n",
    "axs.set_yscale('log')\n",
    "#axs.set_xlim(xmin=0,xmax=1000)\n",
    "plt.show()"
   ]
  },
  {
   "cell_type": "code",
   "execution_count": 30,
   "metadata": {
    "collapsed": true
   },
   "outputs": [
    {
     "data": {
      "text/plain": [
       "array([  8.03220429,   8.08261955,   8.13335125,   8.18440137,\n",
       "         8.23577192,   8.2874649 ,   8.31343294,   8.33948234,\n",
       "         8.36561337,   8.39182628,   8.41812132,   8.44449876,\n",
       "         8.47095884,   8.49750184,   8.5241557 ,   8.55089316,\n",
       "         8.57768662,   8.60456404,   8.61804831,   8.63155371,\n",
       "         8.65859992,   8.68575909,   8.74027648,   8.79513605,\n",
       "         8.85033996,   8.90589037,   8.96178944,   9.01803938,\n",
       "         9.07464237,   9.13160064,   9.18891642,   9.24659195,\n",
       "         9.30462948,   9.3630313 ,   9.42173747,   9.48081173,\n",
       "         9.54025639,   9.60007376,   9.66026619,   9.72083602,\n",
       "         9.84311739,  10.09231412,  10.21926843,  10.34781973,\n",
       "        10.47798812,  10.60979393,  10.74339965,  10.81083211,\n",
       "        10.87868782,  10.94696943,  10.98127079,  11.05019628,\n",
       "        11.08482109,  11.1195544 ,  11.15439653,  11.18934784,\n",
       "        11.20686455,  11.21563318,  11.22440867,  11.25957936,\n",
       "        11.27720601,  11.29486025,  11.3302517 ,  11.36575403,\n",
       "        11.40136762,  11.43712994,  11.50891669,  11.54497886,\n",
       "        11.58115403,  11.61744255,  11.65384477,  11.69036106,\n",
       "        11.72699177,  11.76373726,  11.83757401,  11.91187421,\n",
       "        11.94919901,  11.98664077,  12.02419984,  12.06187661,\n",
       "        12.13758467,  12.21376793,  12.29042937,  12.36757198,\n",
       "        12.44519878,  12.52331282,  12.56255351,  12.60191716,\n",
       "        12.64140415,  12.66119402,  12.68101487,  12.7207497 ,\n",
       "        12.76060904,  12.80059328,  12.8407028 ,  12.880938  ,\n",
       "        12.92129928,  12.96178702,  13.00240163,  13.08401304,\n",
       "        13.16613669,  13.2487758 ,  13.33193361,  13.41561336,\n",
       "        13.49981835,  13.58455186,  13.66981721,  13.75561774,\n",
       "        13.84195682,  13.92883781,  14.01626412,  14.10423917,\n",
       "        14.19276642,  14.28184931,  14.37149135,  14.46169604,\n",
       "        14.55246691,  14.73572144,  14.92128363,  15.29944761,\n",
       "        15.49210863,  15.68719576,  16.08434615,  16.18530181,\n",
       "        16.23601702,  16.28689113,  16.33792466,  16.3891181 ,\n",
       "        16.41477494,  16.44047195,  16.49198671,  16.59550098,\n",
       "        16.69966498,  16.90995848,  17.01609622,  17.12290014,\n",
       "        17.23037443,  17.3385233 ,  17.39285203,  17.44735099,\n",
       "        17.55686174,  17.66705985,  17.77794964,  18.00158391,\n",
       "        18.22803133,  18.45732731,  18.68950767,  18.92460871,\n",
       "        19.1629202 ,  19.40423268,  19.64858393,  20.14602419,\n",
       "        20.65605807,  20.91644491,  21.44598342,  21.98892817,\n",
       "        22.54561857,  23.11701318,  23.70288917,  24.30361356,\n",
       "        24.9189045 ,  25.54977268,  26.19661245,  26.85982817,\n",
       "        27.53983442,  28.23705629,  28.95192962,  29.68490128,\n",
       "        30.43642949,  31.20698402,  31.99704656,  32.807111  ,\n",
       "        33.63768372,  34.48928393,  35.36244397,  36.25770967,\n",
       "        37.17564068,  38.11681081,  39.08180841,  40.0712367 ,\n",
       "        41.08571421,  42.12587508,  43.19236956,  44.28586432,\n",
       "        45.40704292,  46.55660623,  47.73527286,  48.94377962,\n",
       "        50.18288197,  51.45335448,  52.75599135,  54.09160689,\n",
       "        55.46103601,  56.86513476,  58.30478087,  59.78087428,\n",
       "        61.29433773,  62.8461173 ,  64.43718305,  66.06852957,\n",
       "        67.74117665,  69.45616988,  71.21458134,  73.01751024,\n",
       "        74.86608362,  76.76145705,  78.70481537,  80.69737341,\n",
       "        82.74037673,  84.83510247,  86.98286006,  89.18499212,\n",
       "        91.44287522,  93.7579208 ,  96.13157605,  98.56532478,\n",
       "       101.06068836, 103.61922668, 106.24253914, 108.9322656 ,\n",
       "       111.69008747, 114.5177287 , 117.4169569 , 120.38958443,\n",
       "       123.43746952, 126.56251747, 129.76668178, 133.05196545,\n",
       "       136.42042214, 139.87415756, 143.41533067, 147.04615514,\n",
       "       150.76890064, 154.58589434, 158.49952229, 162.51223098,\n",
       "       166.62652881, 170.84498771, 175.1702447 , 179.60500357,\n",
       "       184.15203657, 188.81418612, 193.59436662, 198.49556622,\n",
       "       203.52084877, 208.67335564, 213.95630776, 219.37300759,\n",
       "       224.92684119, 230.62128037, 236.45988482, 242.44630434,\n",
       "       248.58428114, 254.87765219, 261.33035157, 267.94641297,\n",
       "       274.72997221, 281.68526981, 288.81665363, 296.136403  ,\n",
       "       303.633644  , 311.32069153, 319.20235089, 327.28354904,\n",
       "       335.56933768, 344.07398385, 352.78485341, 361.71625475,\n",
       "       370.87377104, 380.2631268 , 389.89019148, 399.77154163,\n",
       "       409.89249792, 420.26968496, 430.90958968, 441.83053263,\n",
       "       453.0162901 , 464.48523573, 476.24453894, 488.30155066,\n",
       "       500.66380795, 513.33903865, 526.33516628, 539.67456846,\n",
       "       553.33742875, 567.34618963, 581.70960821, 596.45241644,\n",
       "       611.56886538, 627.06842456, 642.94382203, 659.22113456,\n",
       "       675.91053738, 693.04076746, 710.58637686, 728.57618583,\n",
       "       747.0214401 , 765.93367011, 785.32469822, 805.20664609,\n",
       "       825.59194225, 846.49332991, 867.92387487, 889.89697373,\n",
       "       912.42636225, 935.52612392, 959.21069881])"
      ]
     },
     "execution_count": 30,
     "metadata": {},
     "output_type": "execute_result"
    }
   ],
   "source": [
    "FIRWL = Dwl[0][0][(Dwl[0][0]>8)&(Dwl[0][0]<1000)]\n",
    "FIRWL"
   ]
  },
  {
   "cell_type": "code",
   "execution_count": 31,
   "metadata": {},
   "outputs": [],
   "source": [
    "FIRSED = GreybodyPL(FIRWL,popt1[0],popt1[1])*u.Jansky"
   ]
  },
  {
   "cell_type": "code",
   "execution_count": 32,
   "metadata": {},
   "outputs": [],
   "source": [
    "Dfreq = (FIRWL * u.micron).to(u.Hz, equivalencies=u.spectral())"
   ]
  },
  {
   "cell_type": "code",
   "execution_count": 35,
   "metadata": {},
   "outputs": [],
   "source": [
    "Lfreq = Dfreq*FIRSED"
   ]
  },
  {
   "cell_type": "code",
   "execution_count": 36,
   "metadata": {},
   "outputs": [
    {
     "data": {
      "text/latex": [
       "$3.186111 \\times 10^{15} \\; \\mathrm{Hz\\,Jy}$"
      ],
      "text/plain": [
       "<Quantity 3.18611097e+15 Hz Jy>"
      ]
     },
     "execution_count": 36,
     "metadata": {},
     "output_type": "execute_result"
    }
   ],
   "source": [
    "np.sum(Lfreq)"
   ]
  },
  {
   "cell_type": "code",
   "execution_count": 38,
   "metadata": {},
   "outputs": [
    {
     "data": {
      "text/latex": [
       "$6.2166103 \\times 10^{39} \\; \\mathrm{\\frac{J}{s}}$"
      ],
      "text/plain": [
       "<Quantity 6.21661034e+39 J / s>"
      ]
     },
     "execution_count": 38,
     "metadata": {},
     "output_type": "execute_result"
    }
   ],
   "source": [
    "(np.sum(Lfreq)*factor*(u.meter)**2).si#10**-26"
   ]
  },
  {
   "cell_type": "code",
   "execution_count": 39,
   "metadata": {
    "scrolled": true
   },
   "outputs": [
    {
     "data": {
      "text/latex": [
       "$3.828 \\times 10^{26} \\; \\mathrm{W}$"
      ],
      "text/plain": [
       "<<class 'astropy.constants.iau2015.IAU2015'> name='Nominal solar luminosity' value=3.828e+26 uncertainty=0.0 unit='W' reference='IAU 2015 Resolution B 3'>"
      ]
     },
     "execution_count": 39,
     "metadata": {},
     "output_type": "execute_result"
    }
   ],
   "source": [
    "const.L_sun.si"
   ]
  },
  {
   "cell_type": "code",
   "execution_count": 40,
   "metadata": {},
   "outputs": [
    {
     "data": {
      "text/latex": [
       "$1.6239839 \\times 10^{13} \\; \\mathrm{\\frac{J}{W\\,s}}$"
      ],
      "text/plain": [
       "<Quantity 1.62398389e+13 J / (s W)>"
      ]
     },
     "execution_count": 40,
     "metadata": {},
     "output_type": "execute_result"
    }
   ],
   "source": [
    "(np.sum(Lfreq)*factor*(u.meter)**2).si/const.L_sun.si#10**-26"
   ]
  },
  {
   "cell_type": "code",
   "execution_count": 98,
   "metadata": {
    "scrolled": false
   },
   "outputs": [
    {
     "data": {
      "image/png": "[encoded data removed]",
      "text/plain": [
       "<Figure size 432x432 with 1 Axes>"
      ]
     },
     "metadata": {
      "needs_background": "light"
     },
     "output_type": "display_data"
    }
   ],
   "source": [
    "fig,axs = plt.subplots(figsize=(6,6))\n",
    "axs.scatter(FIRWL,FIRSED,label='SED1',s=0.1)\n",
    "axs.scatter(Dfreq,FIRSED,label='SED2',s=0.1)\n",
    "axs.legend(numpoints=1,loc='best')\n",
    "axs.set_xscale('log')\n",
    "axs.set_yscale('log')\n",
    "#axs.set_xlim(xmin=0,xmax=1000)\n",
    "plt.show()"
   ]
  },
  {
   "cell_type": "code",
   "execution_count": 42,
   "metadata": {
    "collapsed": true
   },
   "outputs": [
    {
     "data": {
      "text/plain": [
       "array([1.44249485e-20, 2.65403827e-20, 4.83187520e-20, 8.72878278e-20,\n",
       "       1.56478092e-19, 2.78387416e-19, 4.91604005e-19, 1.50102131e-18,\n",
       "       4.45181481e-18, 1.28198054e-17, 3.58139405e-17, 5.92075376e-17,\n",
       "       9.69229944e-17, 1.57616698e-16, 2.54647215e-16, 4.08763722e-16,\n",
       "       6.51984900e-16, 1.03339505e-15, 1.62628118e-15, 2.54366408e-15,\n",
       "       3.95450714e-15, 6.11121883e-15, 9.39195386e-15, 1.43436022e-14,\n",
       "       2.17803570e-14, 3.28859168e-14, 4.94366952e-14, 7.39072782e-14,\n",
       "       1.09888898e-13, 1.62509750e-13, 2.39076096e-13, 5.16239972e-13,\n",
       "       7.58153690e-13, 1.60936761e-12, 3.35216487e-12, 4.81033000e-12,\n",
       "       7.00461019e-12, 1.01571067e-11, 1.46602482e-11, 2.10697681e-11,\n",
       "       4.28740205e-11, 8.66019036e-11, 1.73867919e-10, 3.43287850e-10,\n",
       "       6.64163857e-10, 9.17073260e-10, 1.25835187e-09, 1.71994028e-09,\n",
       "       2.34190146e-09, 3.17679506e-09, 3.69316439e-09, 4.28947177e-09,\n",
       "       4.97749464e-09, 5.77061603e-09, 6.66130776e-09, 7.68209687e-09,\n",
       "       8.85140243e-09, 1.01896422e-08, 1.17198708e-08, 1.34680969e-08,\n",
       "       1.77395038e-08, 2.32854261e-08, 3.04616694e-08, 3.95638687e-08,\n",
       "       5.07017073e-08, 6.47576175e-08, 8.24443234e-08, 1.04628596e-07,\n",
       "       1.32366375e-07, 2.09058805e-07, 3.19520740e-07, 4.82597320e-07,\n",
       "       7.20605894e-07, 1.06267790e-06, 1.54928984e-06, 2.23494158e-06,\n",
       "       2.44600438e-06, 2.67529897e-06, 3.19430141e-06, 4.51988050e-06,\n",
       "       6.33755173e-06, 8.80199195e-06, 1.21055360e-05, 1.64963213e-05,\n",
       "       2.22827914e-05, 2.98437769e-05, 3.96437157e-05, 5.22358203e-05,\n",
       "       6.82809400e-05, 8.85717274e-05, 1.14072817e-04, 1.45888139e-04,\n",
       "       1.85377448e-04, 2.33934810e-04, 2.93330066e-04, 3.65407287e-04,\n",
       "       4.53085062e-04, 5.58338016e-04, 6.84239002e-04, 8.33630534e-04,\n",
       "       1.01139005e-03, 1.22028123e-03, 1.46540129e-03, 1.75056389e-03,\n",
       "       2.08230590e-03, 2.26682656e-03, 2.46468621e-03, 2.67704620e-03,\n",
       "       2.90426183e-03, 3.14707833e-03, 3.40626545e-03, 3.68285678e-03,\n",
       "       3.97745301e-03, 4.29087383e-03, 4.62395753e-03, 4.98043790e-03,\n",
       "       5.35878264e-03, 5.75986790e-03, 6.18462413e-03, 6.63591602e-03,\n",
       "       7.11308244e-03, 7.61708277e-03, 8.14891380e-03, 9.31649799e-03,\n",
       "       9.94780507e-03, 1.06122318e-02, 1.13174532e-02, 1.16836238e-02,\n",
       "       1.20590019e-02, 1.24437372e-02, 1.28379798e-02, 1.32418805e-02,\n",
       "       1.36555902e-02, 1.45212963e-02, 1.54292189e-02, 1.63805295e-02,\n",
       "       1.73765238e-02, 1.84025087e-02, 1.94736428e-02, 2.05763826e-02,\n",
       "       2.17249327e-02, 2.29204132e-02, 2.41640196e-02, 2.54567979e-02,\n",
       "       2.67997809e-02, 2.81873351e-02, 2.96263347e-02, 3.11178341e-02,\n",
       "       3.26627752e-02, 3.34650083e-02, 3.42817071e-02, 3.51127097e-02,\n",
       "       3.59581408e-02, 3.63863057e-02, 3.68181241e-02, 3.72536111e-02,\n",
       "       3.76927822e-02, 3.81356524e-02, 3.85822369e-02, 3.88069267e-02,\n",
       "       3.90325508e-02, 3.94866090e-02, 3.97213659e-02, 3.99580141e-02,\n",
       "       4.04343981e-02, 4.06741387e-02, 4.09149148e-02, 4.13995835e-02,\n",
       "       4.18884229e-02, 4.23814523e-02, 4.33801563e-02, 4.43958466e-02,\n",
       "       4.54286735e-02, 4.64787867e-02, 4.75463351e-02, 4.80867356e-02,\n",
       "       4.86315541e-02, 4.97345107e-02, 5.08553489e-02, 5.19942147e-02,\n",
       "       5.43266089e-02, 5.67328446e-02, 5.92142287e-02, 6.17717329e-02,\n",
       "       6.44064645e-02, 6.71195187e-02, 7.28909436e-02, 7.90069109e-02,\n",
       "       8.55054775e-02, 9.23482645e-02, 9.94344946e-02, 1.06882603e-01,\n",
       "       1.14808109e-01, 1.23126475e-01, 1.32060030e-01, 1.41432070e-01,\n",
       "       1.51222299e-01, 1.61395635e-01, 1.72019272e-01, 1.83100401e-01,\n",
       "       1.88855825e-01, 1.94730859e-01, 2.00726031e-01, 2.06842107e-01,\n",
       "       2.19454043e-01, 2.32358837e-01, 2.45181548e-01, 2.51741018e-01,\n",
       "       2.58404081e-01, 2.65197520e-01, 2.72095721e-01, 2.86205076e-01,\n",
       "       3.00821867e-01, 3.15859924e-01, 3.32303084e-01, 3.49258143e-01,\n",
       "       3.67252289e-01, 3.85805458e-01, 4.04406658e-01, 4.23513798e-01,\n",
       "       4.43117023e-01, 4.63213489e-01, 5.05218740e-01, 5.27080609e-01,\n",
       "       5.49424801e-01, 5.60843089e-01, 5.72380614e-01, 5.84035461e-01,\n",
       "       5.95805974e-01, 6.01856543e-01, 6.07939030e-01, 6.14052049e-01,\n",
       "       6.17119941e-01, 6.18656721e-01, 6.20195386e-01, 6.26368826e-01,\n",
       "       6.29466766e-01, 6.32572148e-01, 6.34127622e-01, 6.34906052e-01,\n",
       "       6.35295441e-01, 6.35684945e-01, 6.38805128e-01, 6.40367980e-01,\n",
       "       6.40758980e-01, 6.41150095e-01, 6.41932668e-01, 6.45067536e-01,\n",
       "       6.51412102e-01, 6.53003068e-01, 6.54595905e-01, 6.57787179e-01,\n",
       "       6.64192024e-01, 6.70626400e-01, 6.73857941e-01, 6.77096789e-01,\n",
       "       6.80342913e-01, 6.86850093e-01, 6.93385940e-01, 6.99663491e-01,\n",
       "       7.11684348e-01, 7.23773340e-01, 7.35940519e-01, 7.60525198e-01,\n",
       "       7.85401536e-01, 8.36895354e-01, 8.63552919e-01, 8.90695010e-01,\n",
       "       9.46718522e-01, 9.74326848e-01, 1.00071005e+00, 1.02668678e+00,\n",
       "       1.05269531e+00, 1.06602866e+00, 1.08045046e+00, 1.09489709e+00,\n",
       "       1.10936586e+00, 1.12385410e+00, 1.13110470e+00, 1.13835918e+00,\n",
       "       1.14561721e+00, 1.15389412e+00, 1.16330977e+00, 1.17275887e+00,\n",
       "       1.18224118e+00, 1.19252033e+00, 1.20368994e+00, 1.21492007e+00,\n",
       "       1.22621066e+00, 1.23756168e+00, 1.24897308e+00, 1.26044481e+00,\n",
       "       1.26620329e+00, 1.27776545e+00, 1.28949623e+00, 1.29538621e+00,\n",
       "       1.30129173e+00, 1.31314938e+00, 1.32506917e+00, 1.33705104e+00,\n",
       "       1.34909498e+00, 1.36120094e+00, 1.37336889e+00, 1.38569338e+00,\n",
       "       1.39808370e+00, 1.40430272e+00, 1.40741819e+00, 1.41053764e+00,\n",
       "       1.41678846e+00, 1.41835365e+00, 1.41991984e+00, 1.42305518e+00,\n",
       "       1.42933779e+00, 1.43091093e+00, 1.43248505e+00, 1.43563629e+00,\n",
       "       1.44195068e+00, 1.44828095e+00, 1.45462710e+00, 1.46098912e+00,\n",
       "       1.46736703e+00, 1.47376080e+00, 1.47910808e+00, 1.48441163e+00,\n",
       "       1.49503974e+00, 1.50569567e+00, 1.51637920e+00, 1.52577626e+00,\n",
       "       1.53515217e+00, 1.55393118e+00, 1.56342147e+00, 1.57292324e+00,\n",
       "       1.58243418e+00, 1.59195404e+00, 1.60148255e+00, 1.61101947e+00,\n",
       "       1.62056453e+00, 1.63011748e+00, 1.64068549e+00, 1.65129704e+00,\n",
       "       1.66192846e+00, 1.67257953e+00, 1.68325007e+00, 1.69393984e+00,\n",
       "       1.70464869e+00, 1.71537634e+00, 1.72612271e+00, 1.73688749e+00,\n",
       "       1.74767065e+00, 1.75306901e+00, 1.75576988e+00, 1.75847187e+00,\n",
       "       1.76259637e+00, 1.76462690e+00, 1.76665673e+00, 1.77071851e+00,\n",
       "       1.77477748e+00, 1.77882947e+00, 1.78287861e+00, 1.78692909e+00,\n",
       "       1.79097667e+00, 1.79444717e+00, 1.79788758e+00, 1.79960576e+00,\n",
       "       1.80132259e+00, 1.80475218e+00, 1.80646495e+00, 1.80817635e+00,\n",
       "       1.81159509e+00, 1.81500839e+00, 1.81841624e+00, 1.82521548e+00,\n",
       "       1.83199285e+00, 1.83874808e+00, 1.84548133e+00, 1.85155260e+00,\n",
       "       1.85758371e+00, 1.86058883e+00, 1.86358724e+00, 1.86657854e+00,\n",
       "       1.86956310e+00, 1.87142240e+00, 1.87322343e+00, 1.87501473e+00,\n",
       "       1.87679632e+00, 1.87856976e+00, 1.88033346e+00, 1.88208564e+00,\n",
       "       1.88382815e+00, 1.88469675e+00, 1.88556295e+00, 1.88728633e+00,\n",
       "       1.88900190e+00, 1.89240113e+00, 1.89576275e+00, 1.89908683e+00,\n",
       "       1.90237371e+00, 1.90562315e+00, 1.90883531e+00, 1.91091603e+00,\n",
       "       1.91177556e+00, 1.91259223e+00, 1.91336528e+00, 1.91370279e+00,\n",
       "       1.91357372e+00, 1.91340002e+00, 1.91318243e+00, 1.91320602e+00,\n",
       "       1.91349736e+00, 1.91374533e+00, 1.91395157e+00, 1.91424226e+00,\n",
       "       1.91989862e+00, 1.92729309e+00, 1.93455540e+00, 1.94168192e+00,\n",
       "       1.95052281e+00, 1.95994610e+00, 1.96462057e+00, 1.96927114e+00,\n",
       "       1.97389631e+00, 1.97619941e+00, 1.98078670e+00, 1.98396550e+00,\n",
       "       1.98721810e+00, 1.99046716e+00, 1.99371268e+00, 1.99533411e+00,\n",
       "       1.99614450e+00, 1.99695467e+00, 2.00019314e+00, 2.00181106e+00,\n",
       "       2.00342810e+00, 2.00665957e+00, 2.00988822e+00, 2.01311347e+00,\n",
       "       2.01633860e+00, 2.02277186e+00, 2.02598335e+00, 2.02919145e+00,\n",
       "       2.03239616e+00, 2.03589448e+00, 2.03941580e+00, 2.04293484e+00,\n",
       "       2.04645160e+00, 2.05347835e+00, 2.06049619e+00, 2.06400086e+00,\n",
       "       2.06750326e+00, 2.07100349e+00, 2.07450157e+00, 2.08149134e+00,\n",
       "       2.08847274e+00, 2.09576781e+00, 2.10307027e+00, 2.11036718e+00,\n",
       "       2.11765870e+00, 2.12130166e+00, 2.12494326e+00, 2.12858362e+00,\n",
       "       2.13040333e+00, 2.13222275e+00, 2.13586067e+00, 2.13949743e+00,\n",
       "       2.14313304e+00, 2.14676754e+00, 2.14934678e+00, 2.15183187e+00,\n",
       "       2.15431270e+00, 2.15678930e+00, 2.16172995e+00, 2.16665411e+00,\n",
       "       2.17116617e+00, 2.17564441e+00, 2.18010532e+00, 2.18454923e+00,\n",
       "       2.18898043e+00, 2.19339557e+00, 2.19780156e+00, 2.20219253e+00,\n",
       "       2.20596967e+00, 2.20970595e+00, 2.21343783e+00, 2.21715536e+00,\n",
       "       2.21983982e+00, 2.22246672e+00, 2.22508749e+00, 2.22769474e+00,\n",
       "       2.23288800e+00, 2.23803784e+00, 2.25395343e+00, 2.26192700e+00,\n",
       "       2.26990227e+00, 2.29298318e+00, 2.29880651e+00, 2.30172379e+00,\n",
       "       2.30464507e+00, 2.30757052e+00, 2.31050029e+00, 2.31196685e+00,\n",
       "       2.31343456e+00, 2.31637348e+00, 2.32237859e+00, 2.32840891e+00,\n",
       "       2.34053531e+00, 2.34661368e+00, 2.35271485e+00, 2.35884111e+00,\n",
       "       2.36499394e+00, 2.36809644e+00, 2.37120729e+00, 2.37745026e+00,\n",
       "       2.38370344e+00, 2.38998511e+00, 2.40257418e+00, 2.41524050e+00,\n",
       "       2.43285686e+00, 2.45072608e+00, 2.46872890e+00, 2.48688717e+00,\n",
       "       2.50697577e+00, 2.52729289e+00, 2.55809156e+00, 2.57805861e+00,\n",
       "       2.58821391e+00, 2.60902087e+00, 2.62768038e+00, 2.64396883e+00,\n",
       "       2.66122454e+00, 2.68457606e+00, 2.71455079e+00, 2.74747607e+00,\n",
       "       2.78369716e+00, 2.82032795e+00, 2.85739542e+00, 2.89668237e+00,\n",
       "       2.93652197e+00, 2.97551202e+00, 3.01574753e+00, 3.05718040e+00,\n",
       "       3.08536226e+00, 3.10048982e+00, 3.11888316e+00, 3.15085087e+00,\n",
       "       3.19829668e+00, 3.25307202e+00, 3.31613361e+00, 3.39023915e+00,\n",
       "       3.47689746e+00, 3.57195293e+00, 3.67651753e+00, 3.79260873e+00,\n",
       "       3.92178219e+00, 4.05767275e+00, 4.18650800e+00, 4.30952738e+00,\n",
       "       4.44337308e+00, 4.60020747e+00, 4.78440527e+00, 4.98557617e+00,\n",
       "       5.20441918e+00, 5.43714553e+00, 5.68540701e+00, 5.95456670e+00,\n",
       "       6.24651063e+00, 6.56319889e+00, 6.90653998e+00, 7.27606308e+00,\n",
       "       7.67287404e+00, 8.09889131e+00, 8.55622702e+00, 9.05393350e+00,\n",
       "       9.59691230e+00, 1.01793023e+01, 1.08037925e+01, 1.14768940e+01,\n",
       "       1.22031453e+01, 1.29733566e+01, 1.37845021e+01, 1.46340872e+01,\n",
       "       1.55259084e+01, 1.64431067e+01, 1.73538643e+01, 1.82647958e+01,\n",
       "       1.91997778e+01, 2.01246124e+01, 2.10187520e+01, 2.19207483e+01,\n",
       "       2.28294813e+01, 2.37553275e+01, 2.47020834e+01, 2.56493437e+01,\n",
       "       2.65972824e+01, 2.75348151e+01, 2.84646886e+01, 2.93573518e+01,\n",
       "       3.02050320e+01, 3.10007546e+01, 3.17384909e+01, 3.24087511e+01,\n",
       "       3.30047419e+01, 3.35413101e+01, 3.40217643e+01, 3.44587126e+01,\n",
       "       3.48683711e+01, 3.51830158e+01, 3.53295898e+01, 3.52862989e+01,\n",
       "       3.51533209e+01, 3.49864081e+01, 3.48137275e+01, 3.45677427e+01,\n",
       "       3.42418597e+01, 3.37374491e+01, 3.30459746e+01, 3.23113743e+01,\n",
       "       3.15472712e+01, 3.07639425e+01, 2.99827198e+01, 2.91433715e+01,\n",
       "       2.81984825e+01, 2.71545288e+01, 2.60947910e+01, 2.50475243e+01,\n",
       "       2.40283482e+01, 2.30082079e+01, 2.19937002e+01, 2.09844496e+01,\n",
       "       1.99846292e+01, 1.89981196e+01, 1.80197085e+01, 1.70493097e+01,\n",
       "       1.61011925e+01, 1.51782760e+01, 1.42755203e+01, 1.33967846e+01,\n",
       "       1.25522790e+01, 1.17527114e+01, 1.10012549e+01, 1.02856060e+01,\n",
       "       9.60691534e+00, 8.96738056e+00, 8.36908649e+00, 7.80164078e+00,\n",
       "       7.25118851e+00, 6.70972313e+00, 6.19894242e+00, 5.72328246e+00,\n",
       "       5.28184316e+00, 4.87011207e+00, 4.48704085e+00, 4.13560276e+00,\n",
       "       3.81740116e+00, 3.52110297e+00, 3.24581889e+00, 2.99137411e+00,\n",
       "       2.75729477e+00, 2.53948055e+00, 2.33428140e+00, 2.13981191e+00,\n",
       "       1.96008654e+00, 1.79303835e+00, 1.63584277e+00, 1.48963016e+00,\n",
       "       1.35546538e+00, 1.23294213e+00, 1.12117518e+00, 1.01906109e+00,\n",
       "       9.25933842e-01, 8.41109609e-01, 7.64101467e-01, 6.93981901e-01,\n",
       "       6.30333162e-01, 5.72374152e-01, 5.19736480e-01, 4.72153081e-01,\n",
       "       4.29504208e-01, 3.90638156e-01, 3.23208902e-01, 2.67658388e-01,\n",
       "       2.21372601e-01, 1.82853703e-01, 1.50741400e-01, 1.23910866e-01,\n",
       "       1.01001822e-01, 8.19122249e-02, 6.57854274e-02, 5.88167862e-02,\n",
       "       5.23379906e-02, 4.14460940e-02, 3.32612403e-02, 2.67876275e-02,\n",
       "       2.20737596e-02, 1.81836841e-02, 1.23503392e-02, 8.37600367e-03,\n",
       "       5.67336322e-03, 3.83850200e-03, 2.59454601e-03, 1.75223153e-03,\n",
       "       1.18248825e-03, 7.97472975e-04, 5.37504765e-04, 3.62096985e-04,\n",
       "       2.43819861e-04, 1.64110739e-04, 1.10420097e-04, 7.42710744e-05,\n",
       "       4.99420629e-05, 3.35739139e-05, 2.25651367e-05, 1.51629921e-05,\n",
       "       1.01871350e-05, 6.84301780e-06, 4.59598993e-06, 3.08640418e-06,\n",
       "       2.07240532e-06, 1.39139355e-06, 9.34078385e-07, 6.27016382e-07,\n",
       "       4.33722099e-07])"
      ]
     },
     "execution_count": 42,
     "metadata": {},
     "output_type": "execute_result"
    }
   ],
   "source": [
    "DnuLnu[0][0]"
   ]
  },
  {
   "cell_type": "code",
   "execution_count": 39,
   "metadata": {},
   "outputs": [],
   "source": [
    "DLnu= np.array(DnuLnu[0])/Dnu"
   ]
  },
  {
   "cell_type": "code",
   "execution_count": 38,
   "metadata": {
    "collapsed": true
   },
   "outputs": [
    {
     "data": {
      "text/latex": [
       "$[[3.0350068 \\times 10^{15},~2.9973028 \\times 10^{15},~2.9600672 \\times 10^{15},~\\dots,~1.2113944 \\times 10^{10},~1.0961075 \\times 10^{10},~9.9930819 \\times 10^{9}],~\n",
       " [3.0350068 \\times 10^{15},~2.9973028 \\times 10^{15},~2.9600672 \\times 10^{15},~\\dots,~1.2113944 \\times 10^{10},~1.0961075 \\times 10^{10},~9.9930819 \\times 10^{9}],~\n",
       " [3.0350068 \\times 10^{15},~2.9973028 \\times 10^{15},~2.9600672 \\times 10^{15},~\\dots,~1.2113944 \\times 10^{10},~1.0961075 \\times 10^{10},~9.9930819 \\times 10^{9}],~\n",
       " \\dots,~\n",
       " [3.0350068 \\times 10^{15},~2.9973028 \\times 10^{15},~2.9600672 \\times 10^{15},~\\dots,~1.2113944 \\times 10^{10},~1.0961075 \\times 10^{10},~9.9930819 \\times 10^{9}],~\n",
       " [3.0350068 \\times 10^{15},~2.9973028 \\times 10^{15},~2.9600672 \\times 10^{15},~\\dots,~1.2113944 \\times 10^{10},~1.0961075 \\times 10^{10},~9.9930819 \\times 10^{9}],~\n",
       " [3.0350068 \\times 10^{15},~2.9973028 \\times 10^{15},~2.9600672 \\times 10^{15},~\\dots,~1.2113944 \\times 10^{10},~1.0961075 \\times 10^{10},~9.9930819 \\times 10^{9}]] \\; \\mathrm{Hz}$"
      ],
      "text/plain": [
       "<Quantity [[3.03500677e+15, 2.99730278e+15, 2.96006719e+15, ...,\n",
       "            1.21139436e+10, 1.09610755e+10, 9.99308193e+09],\n",
       "           [3.03500677e+15, 2.99730278e+15, 2.96006719e+15, ...,\n",
       "            1.21139436e+10, 1.09610755e+10, 9.99308193e+09],\n",
       "           [3.03500677e+15, 2.99730278e+15, 2.96006719e+15, ...,\n",
       "            1.21139436e+10, 1.09610755e+10, 9.99308193e+09],\n",
       "           ...,\n",
       "           [3.03500677e+15, 2.99730278e+15, 2.96006719e+15, ...,\n",
       "            1.21139436e+10, 1.09610755e+10, 9.99308193e+09],\n",
       "           [3.03500677e+15, 2.99730278e+15, 2.96006719e+15, ...,\n",
       "            1.21139436e+10, 1.09610755e+10, 9.99308193e+09],\n",
       "           [3.03500677e+15, 2.99730278e+15, 2.96006719e+15, ...,\n",
       "            1.21139436e+10, 1.09610755e+10, 9.99308193e+09]] Hz>"
      ]
     },
     "execution_count": 38,
     "metadata": {},
     "output_type": "execute_result"
    }
   ],
   "source": [
    "Dnu"
   ]
  },
  {
   "cell_type": "code",
   "execution_count": 40,
   "metadata": {
    "collapsed": true
   },
   "outputs": [
    {
     "data": {
      "text/latex": [
       "$[[4.7528555 \\times 10^{-36},~8.8547553 \\times 10^{-36},~1.6323532 \\times 10^{-35},~\\dots,~7.7107704 \\times 10^{-17},~5.7203911 \\times 10^{-17},~4.3402236 \\times 10^{-17}],~\n",
       " [5.4019842 \\times 10^{-36},~1.0063176 \\times 10^{-35},~1.8549776 \\times 10^{-35},~\\dots,~7.8924632 \\times 10^{-17},~5.8549155 \\times 10^{-17},~4.4421206 \\times 10^{-17}],~\n",
       " [6.1543539 \\times 10^{-36},~1.1463672 \\times 10^{-35},~2.1129696 \\times 10^{-35},~\\dots,~8.0988698 \\times 10^{-17},~6.0077379 \\times 10^{-17},~4.5578774 \\times 10^{-17}],~\n",
       " \\dots,~\n",
       " [8.6652036 \\times 10^{-31},~1.4226071 \\times 10^{-30},~2.3313188 \\times 10^{-30},~\\dots,~6.4461056 \\times 10^{-16},~4.7748495 \\times 10^{-16},~3.6181573 \\times 10^{-16}],~\n",
       " [8.9234406 \\times 10^{-31},~1.4642608 \\times 10^{-30},~2.3983049 \\times 10^{-30},~\\dots,~6.4709173 \\times 10^{-16},~4.7932265 \\times 10^{-16},~3.6320812 \\times 10^{-16}],~\n",
       " [9.1527537 \\times 10^{-31},~1.5013799 \\times 10^{-30},~2.4582276 \\times 10^{-30},~\\dots,~6.4972257 \\times 10^{-16},~4.8127119 \\times 10^{-16},~3.646845 \\times 10^{-16}]] \\; \\mathrm{\\frac{1}{Hz}}$"
      ],
      "text/plain": [
       "<Quantity [[4.75285546e-36, 8.85475530e-36, 1.63235322e-35, ...,\n",
       "            7.71077045e-17, 5.72039105e-17, 4.34022358e-17],\n",
       "           [5.40198423e-36, 1.00631755e-35, 1.85497762e-35, ...,\n",
       "            7.89246318e-17, 5.85491551e-17, 4.44212056e-17],\n",
       "           [6.15435391e-36, 1.14636725e-35, 2.11296959e-35, ...,\n",
       "            8.09886984e-17, 6.00773793e-17, 4.55787744e-17],\n",
       "           ...,\n",
       "           [8.66520365e-31, 1.42260711e-30, 2.33131876e-30, ...,\n",
       "            6.44610560e-16, 4.77484954e-16, 3.61815729e-16],\n",
       "           [8.92344060e-31, 1.46426077e-30, 2.39830490e-30, ...,\n",
       "            6.47091735e-16, 4.79322649e-16, 3.63208125e-16],\n",
       "           [9.15275373e-31, 1.50137987e-30, 2.45822756e-30, ...,\n",
       "            6.49722569e-16, 4.81271185e-16, 3.64684499e-16]] 1 / Hz>"
      ]
     },
     "execution_count": 40,
     "metadata": {},
     "output_type": "execute_result"
    }
   ],
   "source": [
    "DLnu"
   ]
  },
  {
   "cell_type": "markdown",
   "metadata": {},
   "source": [
    "From Laura and Gabriela's code\n",
    "\n",
    "    elif modelsettings['STARBURST']=='S17':\n",
    "        STARBURSTFdict_4plot = dict()\n",
    "        STARBURST_LIRdict = dict()\n",
    "        #Call object containing all starburst models\n",
    "        dusttable = Table.read(path + 'models/STARBURST/s17_dust.fits')\n",
    "        pahstable = Table.read(path + 'models/STARBURST/s17_pah.fits')\n",
    "        Dwl, DnuLnu = dusttable['LAM'],dusttable['SED'] #micron, Lsun\n",
    "        Pwl, PnuLnu = pahstable['LAM'],pahstable['SED'] #micron, Lsun\n",
    "        Tdust = np.array(dusttable['TDUST'])[0] #K\n",
    "        fracPAH = np.arange(0.25, 6.25, 0.25)/100\n",
    "        idxs=[np.arange(len(Tdust)), np.arange(len(fracPAH))]\n",
    "        par_idxs_combinations = np.array(list(itertools.product(*idxs)))\n",
    "        Dnu= (Dwl[0] * u.micron).to(u.Hz, equivalencies=u.spectral())\n",
    "        Pnu= (Pwl[0] * u.micron).to(u.Hz, equivalencies=u.spectral())\n",
    "        DLnu= np.array(DnuLnu[0])/Dnu ###!!!*1e-6 #* u.Lsun.to(u.W)\n",
    "        PLnu=np.array(PnuLnu[0])/Pnu ###!!!*1e-6 #* u.Lsun.to(u.W)\n",
    "        #Construct dictionaries\n",
    "        for c in par_idxs_combinations:\n",
    "            t=c[0]\n",
    "            fp=c[1]\n",
    "            sb_nu0 = np.array(Dnu[t,:])[::-1]\n",
    "            sb_Fnu0 = np.array( (1-fracPAH[fp]) * DLnu[t,:] + (fracPAH[fp]) * PLnu[t,:])[::-1]\n",
    "            STARBURSTFdict_4plot[str(Tdust[t]), str(fracPAH[fp])] = np.log10(sb_nu0), renorm_template('SB',sb_Fnu0)\n",
    "            STARBURST_LIRdict[str(Tdust[t]), str(fracPAH[fp])] = Lir[t]\n",
    "        ## Name the parameters that compose the keys of the dictionary: STARBURSTFdict_4plot[key].\n",
    "        ## Add the names in the same order as their values are arranged in the dictionary key above.\n",
    "        parameters_names =['Tdust', 'fracPAH']\n",
    "        parameters_types =['grid', 'grid']"
   ]
  }
 ],
 "metadata": {
  "kernelspec": {
   "display_name": "Python 3",
   "language": "python",
   "name": "python3"
  },
  "language_info": {
   "codemirror_mode": {
    "name": "ipython",
    "version": 3
   },
   "file_extension": ".py",
   "mimetype": "text/x-python",
   "name": "python",
   "nbconvert_exporter": "python",
   "pygments_lexer": "ipython3",
   "version": "3.7.6"
  }
 },
 "nbformat": 4,
 "nbformat_minor": 4
}
